{
 "cells": [
  {
   "cell_type": "code",
   "execution_count": 13,
   "metadata": {
    "collapsed": false
   },
   "outputs": [
    {
     "data": {
      "text/plain": [
       "3"
      ]
     },
     "execution_count": 13,
     "metadata": {},
     "output_type": "execute_result"
    }
   ],
   "source": [
    "\"\"\"\n",
    "`julia_check` is a subroutine useful for working with the Julia\n",
    "set fract. The function returns the number of steps that we can iterate the sequence\n",
    "    z = zinput (from input)\n",
    "    znext = z*z + c\n",
    "until the maginitude of the value z becomes larger than two or\n",
    "until we hit 256 steps.\n",
    "\"\"\"\n",
    "function julia_check(z,c)\n",
    "    steps = 1;\n",
    "    maxSteps = 256;\n",
    "    while ((steps < maxSteps) && (abs(z) < 2))\n",
    "        znext = z*z + c;\n",
    "        z = znext;\n",
    "        steps += 1;\n",
    "    end\n",
    "    return steps\n",
    "end\n",
    "\n",
    "\n",
    "julia_check(-1, 0.5+0.5im)"
   ]
  },
  {
   "cell_type": "code",
   "execution_count": 14,
   "metadata": {
    "collapsed": false
   },
   "outputs": [
    {
     "data": {
      "text/plain": [
       "6"
      ]
     },
     "execution_count": 14,
     "metadata": {},
     "output_type": "execute_result"
    }
   ],
   "source": [
    "julia_check(0, 0.5+0.5im)"
   ]
  },
  {
   "cell_type": "code",
   "execution_count": 15,
   "metadata": {
    "collapsed": false
   },
   "outputs": [
    {
     "data": {
      "text/plain": [
       "3"
      ]
     },
     "execution_count": 15,
     "metadata": {},
     "output_type": "execute_result"
    }
   ],
   "source": [
    "julia_check(-1, 0.5+0.25im)"
   ]
  },
  {
   "cell_type": "code",
   "execution_count": 16,
   "metadata": {
    "collapsed": false
   },
   "outputs": [
    {
     "data": {
      "text/plain": [
       "6"
      ]
     },
     "execution_count": 16,
     "metadata": {},
     "output_type": "execute_result"
    }
   ],
   "source": [
    "julia_check(0, 0.5+0.25im)"
   ]
  },
  {
   "cell_type": "code",
   "execution_count": 17,
   "metadata": {
    "collapsed": false
   },
   "outputs": [],
   "source": [
    "using FileIO\n",
    "using ImageMagick\n",
    "using Images\n",
    "\n",
    "nxpts = 20 \n",
    "nypts = 20\n",
    "rangex = 1.75+1.75\n",
    "rangey = 1.75im+1.75im\n",
    "Z = zeros(nypts, nxpts)\n",
    "for jj=1:nypts\n",
    "    for ii=1:nxpts\n",
    "        Ztemp = (-1.75-1.75im) + (ii-1)*rangex/nxpts + (jj-1)*rangey/nypts;\n",
    "        Z[jj,ii] = abs(Ztemp)\n",
    "    end\n",
    "end\n",
    "save(\"juliaLittle.png\",grayim(Z/maximum(Z)))"
   ]
  },
  {
   "cell_type": "code",
   "execution_count": 18,
   "metadata": {
    "collapsed": false,
    "scrolled": true
   },
   "outputs": [],
   "source": [
    "using FileIO\n",
    "using ImageMagick\n",
    "using Images\n",
    "\n",
    "nxpts = 10000 \n",
    "nypts = 10000\n",
    "rangex = 1.75+1.75\n",
    "rangey = 1.75im+1.75im\n",
    "c = 0.5+0.5im\n",
    "Z = zeros(nypts, nxpts)\n",
    "for jj=1:nypts\n",
    "    for ii=1:nxpts\n",
    "        Ztemp = (-1.75-1.75im) + (ii-1)*rangex/nxpts + (jj-1)*rangey/nypts;\n",
    "        Z[jj,ii] = julia_check(Ztemp, c)\n",
    "    end\n",
    "end\n",
    "save(\"juliasetIM.png\",grayim(Z/maximum(Z)))"
   ]
  },
  {
   "cell_type": "code",
   "execution_count": 19,
   "metadata": {
    "collapsed": false,
    "scrolled": false
   },
   "outputs": [],
   "source": [
    "nxpts = 10000 \n",
    "nypts = 10000\n",
    "rangex = 1.75+1.75\n",
    "rangey = 1.75im+1.75im\n",
    "c = 0.3\n",
    "Z = zeros(nypts, nxpts)\n",
    "for jj=1:nypts\n",
    "    for ii=1:nxpts\n",
    "        Ztemp = (-1.75-1.75im) + (ii-1)*rangex/nxpts + (jj-1)*rangey/nypts;\n",
    "        Z[jj,ii] = julia_check(Ztemp, c)\n",
    "    end\n",
    "end\n",
    "save(\"juliasetRE.png\",grayim(Z/maximum(Z)))"
   ]
  },
  {
   "cell_type": "code",
   "execution_count": null,
   "metadata": {
    "collapsed": true
   },
   "outputs": [],
   "source": []
  }
 ],
 "metadata": {
  "kernelspec": {
   "display_name": "Julia 0.4.6",
   "language": "julia",
   "name": "julia-0.4"
  },
  "language_info": {
   "file_extension": ".jl",
   "mimetype": "application/julia",
   "name": "julia",
   "version": "0.4.7"
  }
 },
 "nbformat": 4,
 "nbformat_minor": 0
}
