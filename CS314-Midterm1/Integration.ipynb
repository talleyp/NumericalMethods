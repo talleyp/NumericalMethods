{
 "cells": [
  {
   "cell_type": "code",
   "execution_count": 17,
   "metadata": {
    "collapsed": false
   },
   "outputs": [
    {
     "data": {
      "text/plain": [
       "int_variance (generic function with 2 methods)"
      ]
     },
     "execution_count": 17,
     "metadata": {},
     "output_type": "execute_result"
    }
   ],
   "source": [
    "function int_variance(x)\n",
    "    n = length(x);\n",
    "    mean = 0.0;\n",
    "    m2 = 0.0;\n",
    "    N = 0.0;\n",
    "    for i=1:n\n",
    "        N += 1;\n",
    "        delta = x[i] - mean\n",
    "        mean = mean + delta/N\n",
    "        m2 = m2 + delta*(x[i]-mean)\n",
    "    end\n",
    "    return m2(n-1)\n",
    "end"
   ]
  },
  {
   "cell_type": "code",
   "execution_count": 23,
   "metadata": {
    "collapsed": false
   },
   "outputs": [
    {
     "name": "stdout",
     "output_type": "stream",
     "text": [
      "int = 1.478158337004188e-5\n"
     ]
    },
    {
     "data": {
      "text/plain": [
       "1.478158337004188e-5"
      ]
     },
     "execution_count": 23,
     "metadata": {},
     "output_type": "execute_result"
    }
   ],
   "source": [
    "n = 10000000;\n",
    "f = zeros(n);\n",
    "\n",
    "for ii=1:n\n",
    "    x = 2*rand()-1\n",
    "    y = 2*rand()-1\n",
    "    f[ii] = x * y\n",
    "end\n",
    "\n",
    "int = sum(f) / n * 2^2\n",
    "#v = int_variance(f)\n",
    "\n",
    "@show int\n",
    "#@show v"
   ]
  },
  {
   "cell_type": "code",
   "execution_count": 25,
   "metadata": {
    "collapsed": false
   },
   "outputs": [
    {
     "data": {
      "text/plain": [
       "10000000"
      ]
     },
     "execution_count": 25,
     "metadata": {},
     "output_type": "execute_result"
    }
   ],
   "source": [
    "length(f)"
   ]
  },
  {
   "cell_type": "code",
   "execution_count": 13,
   "metadata": {
    "collapsed": false
   },
   "outputs": [
    {
     "ename": "LoadError",
     "evalue": "LoadError: syntax: incomplete: invalid \"`\" syntax\nwhile loading In[13], in expression starting on line 1",
     "output_type": "error",
     "traceback": [
      "LoadError: syntax: incomplete: invalid \"`\" syntax\nwhile loading In[13], in expression starting on line 1",
      ""
     ]
    }
   ],
   "source": []
  },
  {
   "cell_type": "code",
   "execution_count": null,
   "metadata": {
    "collapsed": true
   },
   "outputs": [],
   "source": []
  }
 ],
 "metadata": {
  "kernelspec": {
   "display_name": "Julia 0.4.6",
   "language": "julia",
   "name": "julia-0.4"
  },
  "language_info": {
   "file_extension": ".jl",
   "mimetype": "application/julia",
   "name": "julia",
   "version": "0.4.6"
  }
 },
 "nbformat": 4,
 "nbformat_minor": 0
}
