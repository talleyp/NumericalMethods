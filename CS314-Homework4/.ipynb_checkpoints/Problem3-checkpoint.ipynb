{
 "cells": [
  {
   "cell_type": "code",
   "execution_count": 1,
   "metadata": {
    "collapsed": false
   },
   "outputs": [
    {
     "data": {
      "text/plain": [
       "lupsteps (generic function with 1 method)"
      ]
     },
     "execution_count": 1,
     "metadata": {},
     "output_type": "execute_result"
    }
   ],
   "source": [
    "function swaprows!(A,i,r,cols=:)\n",
    "    temp = A[i,cols]\n",
    "    A[i,cols] = A[r,cols]\n",
    "    A[r,cols] = temp\n",
    "end\n",
    "function lupsteps(A)\n",
    "    A = deepcopy(A)\n",
    "    A0 = copy(A)\n",
    "    println()\n",
    "    println(\"Pivoted LU factorization of\")\n",
    "    println(\"A = \")\n",
    "    println(A)\n",
    "    println()\n",
    "    \n",
    "    # Begin real stuff... \n",
    "    n = size(A,1)\n",
    "    @assert n == size(A,2)\n",
    "    L = eye(n)\n",
    "    P = eye(n)\n",
    "    for k=1:n-1 # outer step of Gaussian Elimination\n",
    "        # find Pivot\n",
    "        r = indmax(abs(A[k:n,k]))\n",
    "        @show r\n",
    "        if r > 1 # then we need to pivot\n",
    "            swaprows!(A,k,k+r-1)\n",
    "            swaprows!(P,k,k+r-1)\n",
    "            swaprows!(L,k,k+r-1,1:k-1)\n",
    "        end\n",
    "        for i = k+1:n # for each row\n",
    "            L[i,k] = A[i,k]/A[k,k]\n",
    "            for j = k:n # for each column\n",
    "                A[i,j] = A[i,j] - L[i,k]*A[k,j]\n",
    "            end\n",
    "        end\n",
    "        # end real stuff!\n",
    "        \n",
    "        @printf(\"after step %i\\n\", k)\n",
    "        println(\"L = \")\n",
    "        println(L)\n",
    "        println(\"L^{-1} P A = \")\n",
    "        println(L\\(P*A0))\n",
    "        println()\n",
    "        #@show L*A, A0, L*A - A0\n",
    "    end\n",
    "    \n",
    "    # One more real thing!\n",
    "    U = triu(A)\n",
    "    return L, U, P\n",
    "end"
   ]
  },
  {
   "cell_type": "code",
   "execution_count": 3,
   "metadata": {
    "collapsed": false
   },
   "outputs": [
    {
     "name": "stdout",
     "output_type": "stream",
     "text": [
      "\n",
      "Pivoted LU factorization of\n",
      "A = \n",
      "[1.941 -0.351 0.7352 0.4583\n",
      " -0.1639 -1.7494 0.0623 -0.6425\n",
      " 0.1269 1.8231 -0.6234 -2.1405\n",
      " -1.1361 0.2914 -1.4423 0.2333]\n",
      "\n",
      "r = 1\n",
      "after step 1\n",
      "L = \n",
      "[1.0 0.0 0.0 0.0\n",
      " -0.08444100978876867 1.0 0.0 0.0\n",
      " 0.06537867078825348 0.0 1.0 0.0\n",
      " -0.5853168469860897 0.0 0.0 1.0]\n",
      "L^{-1} P A = \n",
      "[1.941 -0.351 0.7352 0.4583\n",
      " 0.0 -1.7790387944358579 0.12438103039670273 -0.6038006852138073\n",
      " 0.0 1.846047913446677 -0.6714663987635239 -2.1704630448222564\n",
      " 0.0 0.08595378670788253 -1.0119750540958268 0.501550710973725]\n",
      "\n",
      "r = 2\n",
      "after step 2\n",
      "L = \n",
      "[1.0 0.0 0.0 0.0\n",
      " 0.06537867078825348 1.0 0.0 0.0\n",
      " -0.08444100978876867 -0.9637013110425129 1.0 0.0\n",
      " -0.5853168469860897 0.04656097281213135 0.0 1.0]\n",
      "L^{-1} P A = \n",
      "[1.941 -0.351 0.7352 0.4583\n",
      " 0.0 1.846047913446677 -0.6714663987635239 -2.1704630448222564\n",
      " 0.0 0.0 -0.5227120184126999 -2.69547876707834\n",
      " 0.0 0.0 -0.9807109253587386 0.6026095817934298]\n",
      "\n",
      "r = 2\n",
      "after step 3\n",
      "L = \n",
      "[1.0 0.0 0.0 0.0\n",
      " 0.06537867078825348 1.0 0.0 0.0\n",
      " -0.5853168469860897 0.04656097281213135 1.0 0.0\n",
      " -0.08444100978876867 -0.9637013110425129 0.5329929593896333 1.0]\n",
      "L^{-1} P A = \n",
      "[1.941 -0.351 0.7352 0.4583\n",
      " 0.0 1.846047913446677 -0.6714663987635239 -2.1704630448222564\n",
      " 0.0 0.0 -0.9807109253587386 0.6026095817934298\n",
      " 0.0 0.0 0.0 -3.0166654314349692]\n",
      "\n"
     ]
    },
    {
     "data": {
      "text/plain": [
       "(\n",
       "4x4 Array{Float64,2}:\n",
       "  1.0         0.0       0.0       0.0\n",
       "  0.0653787   1.0       0.0       0.0\n",
       " -0.585317    0.046561  1.0       0.0\n",
       " -0.084441   -0.963701  0.532993  1.0,\n",
       "\n",
       "4x4 Array{Float64,2}:\n",
       " 1.941  -0.351     0.7352     0.4583 \n",
       " 0.0     1.84605  -0.671466  -2.17046\n",
       " 0.0     0.0      -0.980711   0.60261\n",
       " 0.0     0.0       0.0       -3.01667,\n",
       "\n",
       "4x4 Array{Float64,2}:\n",
       " 1.0  0.0  0.0  0.0\n",
       " 0.0  0.0  1.0  0.0\n",
       " 0.0  0.0  0.0  1.0\n",
       " 0.0  1.0  0.0  0.0)"
      ]
     },
     "execution_count": 3,
     "metadata": {},
     "output_type": "execute_result"
    }
   ],
   "source": [
    "A = [1.9410 -0.3510 0.7352 0.4583;\n",
    "    -0.1639 -1.7494 0.0623 -0.6425;\n",
    "    0.1269 1.8231 -0.6234 -2.1405;\n",
    "    -1.1361 0.2914 -1.4423 0.2333]\n",
    "lupsteps(A)"
   ]
  },
  {
   "cell_type": "code",
   "execution_count": null,
   "metadata": {
    "collapsed": true
   },
   "outputs": [],
   "source": []
  }
 ],
 "metadata": {
  "kernelspec": {
   "display_name": "Julia 0.4.6",
   "language": "julia",
   "name": "julia-0.4"
  },
  "language_info": {
   "file_extension": ".jl",
   "mimetype": "application/julia",
   "name": "julia",
   "version": "0.4.7"
  }
 },
 "nbformat": 4,
 "nbformat_minor": 0
}
