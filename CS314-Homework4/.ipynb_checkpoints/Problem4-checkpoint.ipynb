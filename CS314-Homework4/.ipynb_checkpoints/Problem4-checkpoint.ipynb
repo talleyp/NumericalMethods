{
 "cells": [
  {
   "cell_type": "code",
   "execution_count": 46,
   "metadata": {
    "collapsed": false
   },
   "outputs": [
    {
     "data": {
      "text/plain": [
       "myqr (generic function with 1 method)"
      ]
     },
     "execution_count": 46,
     "metadata": {},
     "output_type": "execute_result"
    }
   ],
   "source": [
    "\"\"\"\n",
    "`myqr` is a function which computes the QR decomposition of a matrix A\n",
    "\"\"\"\n",
    "function myqr(A)\n",
    "    n, m = size(A)\n",
    "    Q = zeros(n, m)\n",
    "    u = zeros(n, m)\n",
    "    R = zeros(n, m)\n",
    "    # Compute e\n",
    "    for i=1:m\n",
    "        if i>1\n",
    "            u[:,i]=A[:,i]\n",
    "            for j=1:(i-1)\n",
    "                u[:,i] -= (dot(A[:,i], Q[:,j]) * Q[:,j])\n",
    "            end\n",
    "        else\n",
    "            u[:,i] = A[:,i]\n",
    "        end\n",
    "        Q[:,i] = u[:,i] / norm(u[:,i])\n",
    "    end\n",
    "    for i=1:n\n",
    "        for j=i:m\n",
    "            R[i,j] = dot(A[:,j],Q[:,i])\n",
    "        end\n",
    "    end\n",
    "    return Q, R\n",
    "end"
   ]
  },
  {
   "cell_type": "code",
   "execution_count": 85,
   "metadata": {
    "collapsed": false
   },
   "outputs": [
    {
     "data": {
      "text/plain": [
       "11x1 Array{Float64,2}:\n",
       "  1.0       \n",
       " -1.21326e-5\n",
       " -7.99953   \n",
       " -0.00713782\n",
       " 10.7226    \n",
       " -0.257549  \n",
       " -4.94664   \n",
       " -1.3733    \n",
       "  3.24334   \n",
       " -1.14539   \n",
       "  0.109981  "
      ]
     },
     "execution_count": 85,
     "metadata": {},
     "output_type": "execute_result"
    }
   ],
   "source": [
    "t = linspace(0,1,50)\n",
    "b = cos(4*t)\n",
    "A = zeros(length(t),11)\n",
    "\n",
    "for j=1:11\n",
    "    A[:,j]=t.^(j-1)\n",
    "end\n",
    "\n",
    "Q, R = qr(A)\n",
    "Rx = Q'*b\n",
    "xqr=zeros(11,1)\n",
    "\n",
    "for i=1:11\n",
    "    k = 11+1-i\n",
    "    temp=0\n",
    "    if i>1\n",
    "        for j=(k+1):11\n",
    "            temp += xqr[j] * R[k,j]\n",
    "        end\n",
    "        xqr[k] = (Rx[k] - temp)/R[k,k]\n",
    "    else\n",
    "        xqr[k] = Rx[k] / R[k,k] \n",
    "    end\n",
    "end\n",
    "xqr"
   ]
  },
  {
   "cell_type": "code",
   "execution_count": 87,
   "metadata": {
    "collapsed": false
   },
   "outputs": [
    {
     "data": {
      "text/plain": [
       "11-element Array{Float64,1}:\n",
       "  1.0       \n",
       " -1.21875e-5\n",
       " -7.99953   \n",
       " -0.00716401\n",
       " 10.7228    \n",
       " -0.258231  \n",
       " -4.94505   \n",
       " -1.37561   \n",
       "  3.24535   \n",
       " -1.14636   \n",
       "  0.110179  "
      ]
     },
     "execution_count": 87,
     "metadata": {},
     "output_type": "execute_result"
    }
   ],
   "source": [
    "xne = (A'*A)\\(A'*b)"
   ]
  },
  {
   "cell_type": "code",
   "execution_count": 88,
   "metadata": {
    "collapsed": false,
    "scrolled": false
   },
   "outputs": [
    {
     "data": {
      "text/plain": [
       "11x1 Array{Float64,2}:\n",
       " 1.77572e-10\n",
       " 5.49102e-8 \n",
       " 1.95325e-6 \n",
       " 2.61894e-5 \n",
       " 0.000176752\n",
       " 0.000681829\n",
       " 0.00159562 \n",
       " 0.00230463 \n",
       " 0.00200683 \n",
       " 0.000965544\n",
       " 0.000197089"
      ]
     },
     "execution_count": 88,
     "metadata": {},
     "output_type": "execute_result"
    }
   ],
   "source": [
    "abs(xqr-xne)"
   ]
  },
  {
   "cell_type": "code",
   "execution_count": 170,
   "metadata": {
    "collapsed": false
   },
   "outputs": [
    {
     "data": {
      "text/html": [
       "<img src=\"data:image/png;base64,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\" />"
      ]
     },
     "execution_count": 170,
     "metadata": {},
     "output_type": "execute_result"
    }
   ],
   "source": [
    "h = [0.282; 0.564; 0.752; 0.940]\n",
    "d = [0.752; 1.102; 1.248; 1.410]\n",
    "A = [ones(size(h)) h]\n",
    "c = A\\d\n",
    "\n",
    "f(z) = c[1] + c[2] * sqrt(z)\n",
    "\n",
    "hmin = minimum(h); hmax=maximum(h)\n",
    "h1= linspace(hmin, hmax, 100)\n",
    "\n",
    "using Plots\n",
    "using Polynomials\n",
    "scatter(h,d,color=\"black\", label=\"data\", title=\"Least squares sqrt fit\", xlabel=\"release height\", ylabel=\"distance\")\n",
    "plot!(h1,f(h1),color=\"red\", label=\"c0+c1*sqrt(x)\")"
   ]
  },
  {
   "cell_type": "code",
   "execution_count": 169,
   "metadata": {
    "collapsed": false
   },
   "outputs": [
    {
     "data": {
      "text/plain": [
       "4-element Array{Float64,1}:\n",
       " 5.25 \n",
       " 4.625\n",
       " 9.125\n",
       " 1.0  "
      ]
     },
     "execution_count": 169,
     "metadata": {},
     "output_type": "execute_result"
    }
   ],
   "source": [
    "A = [1 -1 0 0;\n",
    "    -1 0 1 0;\n",
    "    1 0 0 -1;\n",
    "    0 0 1 -1;\n",
    "    0 1 0 -1;\n",
    "    1 1 1 1]\n",
    "b = [4; 9; 6; 3; 7; 20]\n",
    "A\\b"
   ]
  },
  {
   "cell_type": "code",
   "execution_count": 171,
   "metadata": {
    "collapsed": false
   },
   "outputs": [
    {
     "data": {
      "text/plain": [
       "4-element Array{Float64,1}:\n",
       " 100.0  \n",
       "  99.375\n",
       " 103.875\n",
       "  95.75 "
      ]
     },
     "execution_count": 171,
     "metadata": {},
     "output_type": "execute_result"
    }
   ],
   "source": [
    "A = [1 -1 0 0;\n",
    "    -1 0 1 0;\n",
    "    1 0 0 -1;\n",
    "    0 0 1 -1;\n",
    "    0 1 0 -1;\n",
    "    1 0 0 0]\n",
    "b = [4; 9; 6; 3; 7; 100]\n",
    "A\\b"
   ]
  },
  {
   "cell_type": "code",
   "execution_count": 178,
   "metadata": {
    "collapsed": false
   },
   "outputs": [
    {
     "name": "stdout",
     "output_type": "stream",
     "text": [
      "r = A \\ b = [-3.9999999999999982,3.200000000000002,-5.599999999999997]\n"
     ]
    },
    {
     "data": {
      "text/plain": [
       "1.7763568394002505e-15"
      ]
     },
     "execution_count": 178,
     "metadata": {},
     "output_type": "execute_result"
    }
   ],
   "source": [
    "A = [-1 0 0;\n",
    "    -1 1 0;\n",
    "    1 0 -1;\n",
    "    0 1 -1\n",
    "    1 0 -1]\n",
    "b = [4; 13; 2; 3; 7]\n",
    "@show r = A\\b\n",
    "r1 = r[1]+4"
   ]
  },
  {
   "cell_type": "code",
   "execution_count": null,
   "metadata": {
    "collapsed": true
   },
   "outputs": [],
   "source": []
  }
 ],
 "metadata": {
  "kernelspec": {
   "display_name": "Julia 0.4.6",
   "language": "julia",
   "name": "julia-0.4"
  },
  "language_info": {
   "file_extension": ".jl",
   "mimetype": "application/julia",
   "name": "julia",
   "version": "0.4.7"
  }
 },
 "nbformat": 4,
 "nbformat_minor": 0
}
