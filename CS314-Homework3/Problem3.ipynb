{
 "cells": [
  {
   "cell_type": "code",
   "execution_count": 41,
   "metadata": {
    "collapsed": false
   },
   "outputs": [],
   "source": [
    "using Plots\n",
    "# create matrix whose columns contain the coordinates of\n",
    "# each vertex.\n",
    "U = [1.0 0 -1 0 1.0; 0 1 0 -1 0]\n",
    "\n",
    "theta = pi/4.0\n",
    "\n",
    "# Create a red unit square\n",
    "# Note U(1,:) denotes the first row of U\n",
    "plot(U[1,:]',U[2,:]',fill=(0,:red))\n",
    "\n",
    "# Perform rotation.\n",
    "R = [cos(theta) -sin(theta); sin(theta) cos(theta)];\n",
    "V = R*U;\n",
    "# Plot the blue square\n",
    "plot!(V[1,:]', V[2,:]',fill=(0,:blue))\n",
    "savefig(\"problem3\")"
   ]
  },
  {
   "cell_type": "code",
   "execution_count": 42,
   "metadata": {
    "collapsed": false
   },
   "outputs": [],
   "source": [
    "using Plots\n",
    "# create matrix whose columns contain the coordinates of\n",
    "# each vertex.\n",
    "U = [5 6 4 5; 0 2 1 0]\n",
    "\n",
    "theta = pi/2.0\n",
    "\n",
    "# Create a red triangle\n",
    "# Note U(1,:) denotes the first row of U\n",
    "plot(U[1,:]',U[2,:]',fill=(0,:red))\n",
    "\n",
    "# Perform rotation.\n",
    "R = [cos(theta) -sin(theta); sin(theta) cos(theta)];\n",
    "V = R*U;\n",
    "# Plot the blue square\n",
    "plot!(V[1,:]', V[2,:]',fill=(0,:blue))\n",
    "\n",
    "# Perform rotation.\n",
    "W = R*V;\n",
    "# Plot the blue square\n",
    "plot!(W[1,:]', W[2,:]',fill=(0,:green))\n",
    "\n",
    "# Perform rotation.\n",
    "Z = R*W;\n",
    "# Plot the blue square\n",
    "plot!(Z[1,:]', Z[2,:]',fill=(0,:yellow))\n",
    "savefig(\"problem3partA\")"
   ]
  },
  {
   "cell_type": "code",
   "execution_count": 43,
   "metadata": {
    "collapsed": false
   },
   "outputs": [],
   "source": [
    "using Plots\n",
    "# create matrix whose columns contain the coordinates of\n",
    "# each vertex.\n",
    "U = [1.0 0 -1 0 1.0; 0 1 0 -1 0]\n",
    "\n",
    "theta = pi/4.0\n",
    "\n",
    "# Create a red unit square\n",
    "# Note U(1,:) denotes the first row of U\n",
    "plot(U[1,:]',U[2,:]',fill=(0,:red))\n",
    "\n",
    "\n",
    "# Perform rotation.\n",
    "R = [cos(theta) -sin(theta); sin(theta) cos(theta)];\n",
    "V = R*U;\n",
    "# Plot the blue square\n",
    "plot!(V[1,:]', V[2,:]',fill=(0,:blue))\n",
    "\n",
    "# Perform counter rotation.\n",
    "R = [cos(-theta) -sin(-theta); sin(-theta) cos(-theta)];\n",
    "W = R*V;\n",
    "# Plot the blue square\n",
    "plot!(W[1,:]', W[2,:]',fill=(0,:green))\n",
    "savefig(\"problem3partB\")\n"
   ]
  },
  {
   "cell_type": "code",
   "execution_count": 44,
   "metadata": {
    "collapsed": false
   },
   "outputs": [],
   "source": [
    "using Plots\n",
    "# create matrix whose columns contain the coordinates of\n",
    "# each vertex.\n",
    "U = [1.0 0 -1 0 1.0; 0 1 0 -1 0]\n",
    "\n",
    "theta = pi/3.0\n",
    "\n",
    "# Create a red unit square\n",
    "# Note U(1,:) denotes the first row of U\n",
    "plot(U[1,:]',U[2,:]',fill=(0,:red))\n",
    "\n",
    "\n",
    "# Perform rotation.\n",
    "R = [cos(theta) -sin(theta); sin(theta) cos(theta)];\n",
    "V = R*U;\n",
    "# Plot the blue square\n",
    "plot!(V[1,:]', V[2,:]',fill=(0,:blue))\n",
    "\n",
    "# Perform counter rotation.\n",
    "R = [cos(-theta) -sin(-theta); sin(-theta) cos(-theta)];\n",
    "W = R*V;\n",
    "# Plot the blue square\n",
    "plot!(W[1,:]', W[2,:]',fill=(0,:green))\n",
    "savefig(\"problem3partC\")"
   ]
  },
  {
   "cell_type": "code",
   "execution_count": 17,
   "metadata": {
    "collapsed": false
   },
   "outputs": [
    {
     "name": "stdout",
     "output_type": "stream",
     "text": [
      "[cos(theta) -(sin(theta));sin(theta) cos(theta)] * [cos(-theta) -(sin(-theta));sin(-theta) cos(-theta)] = [1.0 0.0\n",
      " 0.0 1.0]\n",
      "[cos(theta) -(sin(theta));sin(theta) cos(theta)] * [cos(-theta) -(sin(-theta));sin(-theta) cos(-theta)] = [1.0 0.0\n",
      " 0.0 1.0]\n"
     ]
    },
    {
     "data": {
      "text/plain": [
       "2x2 Array{Float64,2}:\n",
       " 1.0  0.0\n",
       " 0.0  1.0"
      ]
     },
     "execution_count": 17,
     "metadata": {},
     "output_type": "execute_result"
    }
   ],
   "source": [
    "theta = pi/4.0\n",
    "@show [cos(theta) -sin(theta); sin(theta) cos(theta)] * [cos(-theta) -sin(-theta); sin(-theta) cos(-theta)]\n",
    "theta = pi/3.0\n",
    "@show [cos(theta) -sin(theta); sin(theta) cos(theta)] * [cos(-theta) -sin(-theta); sin(-theta) cos(-theta)]"
   ]
  },
  {
   "cell_type": "code",
   "execution_count": 45,
   "metadata": {
    "collapsed": false
   },
   "outputs": [],
   "source": [
    "using Plots\n",
    "# create matrix whose columns contain the coordinates of\n",
    "# each vertex.\n",
    "U = [1.0 0 -1 0 1.0; 0 1 0 -1 0]\n",
    "\n",
    "theta = pi/8.0\n",
    "\n",
    "# Create a red unit square\n",
    "# Note U(1,:) denotes the first row of U\n",
    "plot(U[1,:]',U[2,:]',legend=false,fill=(0,:red))\n",
    "\n",
    "N=50\n",
    "for i=1:N\n",
    "    # Perform rotation.\n",
    "    R = [cos(theta) -sin(theta); sin(theta) cos(theta)];\n",
    "    U = 0.9*R*U;\n",
    "    # Plot the blue square\n",
    "    plot!(U[1,:]', U[2,:]',fill=(0,:blue))\n",
    "end\n",
    "savefig(\"problem3partC\")"
   ]
  },
  {
   "cell_type": "code",
   "execution_count": 46,
   "metadata": {
    "collapsed": false
   },
   "outputs": [],
   "source": [
    "using Plots\n",
    "using FileIO\n",
    "using ImageMagick\n",
    "\n",
    "\n",
    "# create matrix whose columns contain the coordinates of\n",
    "# each vertex.\n",
    "U = [1.0 0 -1 0 1.0; 0 1 0 -1 0]\n",
    "\n",
    "theta = pi/8.0\n",
    "\n",
    "# Create a red unit square\n",
    "# Note U(1,:) denotes the first row of U\n",
    "plot(U[1,:]',U[2,:]',legend=false, fill=(0,:red))\n",
    "\n",
    "N=50\n",
    "for i=1:N\n",
    "    # Perform rotation.\n",
    "    R = [cos(theta) -sin(theta); sin(theta) cos(theta)];\n",
    "    U = 0.9*R*U + [1 1 1 1 1; 2 2 2 2 2];\n",
    "    # Plot the blue square\n",
    "    plot!(U[1,:]', U[2,:]',fill=(0,:blue))\n",
    "end\n",
    "savefig(\"problem3partD\")\n"
   ]
  },
  {
   "cell_type": "code",
   "execution_count": null,
   "metadata": {
    "collapsed": true
   },
   "outputs": [],
   "source": []
  }
 ],
 "metadata": {
  "kernelspec": {
   "display_name": "Julia 0.4.6",
   "language": "julia",
   "name": "julia-0.4"
  },
  "language_info": {
   "file_extension": ".jl",
   "mimetype": "application/julia",
   "name": "julia",
   "version": "0.4.6"
  }
 },
 "nbformat": 4,
 "nbformat_minor": 0
}
