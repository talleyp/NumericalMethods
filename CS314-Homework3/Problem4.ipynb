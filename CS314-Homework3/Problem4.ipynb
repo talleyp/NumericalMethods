{
 "cells": [
  {
   "cell_type": "code",
   "execution_count": 19,
   "metadata": {
    "collapsed": false
   },
   "outputs": [
    {
     "data": {
      "text/plain": [
       "24.36862745098039"
      ]
     },
     "execution_count": 19,
     "metadata": {},
     "output_type": "execute_result"
    }
   ],
   "source": [
    "using DataFrames\n",
    "#download(\"http://www.cs.purdue.edu/homes/dgleich/cs314-2016/homeworks/smallicon.csv\",\"smallicon.csv\")\n",
    "X = readcsv(\"smallicon.csv\");\n",
    "sum(diag(X))"
   ]
  },
  {
   "cell_type": "code",
   "execution_count": 6,
   "metadata": {
    "collapsed": false
   },
   "outputs": [
    {
     "data": {
      "image/png": "[encoded data removed]",
      "text/plain": [
       "Gray Images.Image with:\n",
       "  data: 32x32 Array{Float64,2}\n",
       "  properties:\n",
       "    colorspace: Gray\n",
       "    spatialorder:  x y"
      ]
     },
     "execution_count": 6,
     "metadata": {},
     "output_type": "execute_result"
    }
   ],
   "source": [
    "using Images\n",
    "grayim(X)"
   ]
  },
  {
   "cell_type": "code",
   "execution_count": 10,
   "metadata": {
    "collapsed": false
   },
   "outputs": [],
   "source": [
    "using Images\n",
    "using FileIO\n",
    "using ImageMagick\n",
    "grayim(X')\n",
    "save(\"problem4partA.png\", grayim(X'))"
   ]
  },
  {
   "cell_type": "code",
   "execution_count": 26,
   "metadata": {
    "collapsed": false
   },
   "outputs": [
    {
     "data": {
      "text/plain": [
       "4x4 Array{Int64,2}:\n",
       "  1   2   3   4\n",
       "  5   6   7   8\n",
       "  9  10  11  12\n",
       " 13  14  15  16"
      ]
     },
     "execution_count": 26,
     "metadata": {},
     "output_type": "execute_result"
    }
   ],
   "source": [
    "N = reshape(1:(4*4), 4, 4)'"
   ]
  },
  {
   "cell_type": "code",
   "execution_count": 24,
   "metadata": {
    "collapsed": false
   },
   "outputs": [
    {
     "data": {
      "text/plain": [
       "4x4 Array{Int64,2}:\n",
       " 1  5   9  13\n",
       " 2  6  10  14\n",
       " 3  7  11  15\n",
       " 4  8  12  16"
      ]
     },
     "execution_count": 24,
     "metadata": {},
     "output_type": "execute_result"
    }
   ],
   "source": [
    "N = reshape(1:(4*4), 4, 4)"
   ]
  },
  {
   "cell_type": "code",
   "execution_count": 18,
   "metadata": {
    "collapsed": false
   },
   "outputs": [
    {
     "data": {
      "image/png": "[encoded data removed]",
      "text/plain": [
       "Gray Images.Image with:\n",
       "  data: 16x16 Array{Float64,2}\n",
       "  properties:\n",
       "    colorspace: Gray\n",
       "    spatialorder:  x y"
      ]
     },
     "execution_count": 18,
     "metadata": {},
     "output_type": "execute_result"
    }
   ],
   "source": [
    "MY = Dict(1 => [1 2 33 34])\n",
    "k = 1;\n",
    "for i=2:(16*16)\n",
    "    if MY[i-1][2] == k*32\n",
    "        MY[i] = MY[i-1] +  34\n",
    "        k+=2\n",
    "    else\n",
    "        MY[i] = MY[i-1] + 2\n",
    "    end\n",
    "end\n",
    "\n",
    "A = zeros(16*16,32*32) \n",
    "\n",
    "for j=1:(16*16)\n",
    "    ind = MY[j]\n",
    "    A[j, ind] = 1/4\n",
    "end\n",
    "x = reshape(X',32*32,1)\n",
    "y = A*x\n",
    "Y = reshape(y,16,16)'\n",
    "\n",
    "using Images\n",
    "grayim(Y')"
   ]
  },
  {
   "cell_type": "code",
   "execution_count": 20,
   "metadata": {
    "collapsed": false
   },
   "outputs": [],
   "source": [
    "using Images\n",
    "using FileIO\n",
    "using ImageMagick\n",
    "save(\"problem4partD.png\", grayim(Y'))"
   ]
  },
  {
   "cell_type": "code",
   "execution_count": null,
   "metadata": {
    "collapsed": true
   },
   "outputs": [],
   "source": []
  }
 ],
 "metadata": {
  "kernelspec": {
   "display_name": "Julia 0.4.6",
   "language": "julia",
   "name": "julia-0.4"
  },
  "language_info": {
   "file_extension": ".jl",
   "mimetype": "application/julia",
   "name": "julia",
   "version": "0.4.7"
  }
 },
 "nbformat": 4,
 "nbformat_minor": 0
}
