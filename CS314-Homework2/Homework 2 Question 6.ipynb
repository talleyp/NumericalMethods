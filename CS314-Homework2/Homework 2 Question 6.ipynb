{
 "cells": [
  {
   "cell_type": "code",
   "execution_count": 1,
   "metadata": {
    "collapsed": false
   },
   "outputs": [
    {
     "name": "stderr",
     "output_type": "stream",
     "text": [
      "  % Total    % Received % Xferd  Average Speed   Time    Time     Time  Current\n",
      "                                 Dload  Upload   Total   Spent    Left  Speed\n",
      "100  5614  100  5614    0     0  15540      0 --:--:-- --:--:-- --:--:-- 15508\n"
     ]
    },
    {
     "data": {
      "text/plain": [
       "\"get_birthdays.jl\""
      ]
     },
     "execution_count": 1,
     "metadata": {},
     "output_type": "execute_result"
    }
   ],
   "source": [
    "download(\"https://www.cs.purdue.edu/homes/dgleich/cs314-2016/julia/get_birthdays.jl\",\n",
    "    \"get_birthdays.jl\")"
   ]
  },
  {
   "cell_type": "code",
   "execution_count": 3,
   "metadata": {
    "collapsed": false
   },
   "outputs": [
    {
     "name": "stdout",
     "output_type": "stream",
     "text": [
      "[Plots.jl] Initializing backend: pyplot\n"
     ]
    },
    {
     "name": "stderr",
     "output_type": "stream",
     "text": [
      "INFO: Recompiling stale cache file /home/renge/.julia/lib/v0.4/PyPlot.ji for module PyPlot.\n",
      "INFO: Recompiling stale cache file /home/renge/.julia/lib/v0.4/PyCall.ji for module PyCall.\n",
      "INFO: Recompiling stale cache file /home/renge/.julia/lib/v0.4/MacroTools.ji for module MacroTools.\n",
      "INFO: Recompiling stale cache file /home/renge/.julia/lib/v0.4/LaTeXStrings.ji for module LaTeXStrings.\n"
     ]
    },
    {
     "data": {
      "text/html": [
       "<img src=\"data:image/png;base64,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\" />"
      ]
     },
     "execution_count": 3,
     "metadata": {},
     "output_type": "execute_result"
    }
   ],
   "source": [
    "using Plots\n",
    "include(\"get_birthdays.jl\")\n",
    "d = get_birthdays(10000)\n",
    "histogram(d,bins=12)"
   ]
  },
  {
   "cell_type": "code",
   "execution_count": 4,
   "metadata": {
    "collapsed": false
   },
   "outputs": [
    {
     "data": {
      "text/plain": [
       "create_room (generic function with 1 method)"
      ]
     },
     "execution_count": 4,
     "metadata": {},
     "output_type": "execute_result"
    }
   ],
   "source": [
    "function create_room(m)\n",
    "    d = get_birthdays(m)\n",
    "    if length(unique(d)) < length(d)\n",
    "        return 1.\n",
    "    else\n",
    "        return 0.\n",
    "    end\n",
    "end"
   ]
  },
  {
   "cell_type": "code",
   "execution_count": 9,
   "metadata": {
    "collapsed": false
   },
   "outputs": [
    {
     "name": "stdout",
     "output_type": "stream",
     "text": [
      "prob = 0.5097\n",
      "m = 40\n"
     ]
    }
   ],
   "source": [
    "n = 10000;\n",
    "m = 40;\n",
    "counter = 0;\n",
    "for i=2:m\n",
    "    for j=1:n\n",
    "        counter += create_room(i);\n",
    "    end\n",
    "    prob = counter/n;\n",
    "    if prob >= 0.5\n",
    "        @show prob\n",
    "        @show m\n",
    "        break\n",
    "    end\n",
    "    counter = 0\n",
    "end"
   ]
  },
  {
   "cell_type": "code",
   "execution_count": 13,
   "metadata": {
    "collapsed": false
   },
   "outputs": [
    {
     "name": "stdout",
     "output_type": "stream",
     "text": [
      "prob = 0.7124\n",
      "m = 30\n"
     ]
    },
    {
     "data": {
      "text/plain": [
       "30"
      ]
     },
     "execution_count": 13,
     "metadata": {},
     "output_type": "execute_result"
    }
   ],
   "source": [
    "n = 10000;\n",
    "m = 30;\n",
    "counter = 0;\n",
    "for j=1:n\n",
    "    counter += create_room(m);\n",
    "end\n",
    "prob = counter/n;\n",
    "@show prob\n",
    "@show m\n",
    "\n"
   ]
  },
  {
   "cell_type": "code",
   "execution_count": 14,
   "metadata": {
    "collapsed": false
   },
   "outputs": [
    {
     "name": "stdout",
     "output_type": "stream",
     "text": [
      "prob = 0.1143\n",
      "m = 10\n"
     ]
    },
    {
     "data": {
      "text/plain": [
       "10"
      ]
     },
     "execution_count": 14,
     "metadata": {},
     "output_type": "execute_result"
    }
   ],
   "source": [
    "n = 10000;\n",
    "m = 10;\n",
    "counter = 0;\n",
    "for j=1:n\n",
    "    counter += create_room(m);\n",
    "end\n",
    "prob = counter/n;\n",
    "@show prob\n",
    "@show m\n"
   ]
  },
  {
   "cell_type": "code",
   "execution_count": 15,
   "metadata": {
    "collapsed": false
   },
   "outputs": [
    {
     "name": "stdout",
     "output_type": "stream",
     "text": [
      "prob = 0.4085\n",
      "m = 20\n"
     ]
    },
    {
     "data": {
      "text/plain": [
       "20"
      ]
     },
     "execution_count": 15,
     "metadata": {},
     "output_type": "execute_result"
    }
   ],
   "source": [
    "n = 10000;\n",
    "m = 20;\n",
    "counter = 0;\n",
    "for j=1:n\n",
    "    counter += create_room(m);\n",
    "end\n",
    "prob = counter/n;\n",
    "@show prob\n",
    "@show m"
   ]
  },
  {
   "cell_type": "code",
   "execution_count": 16,
   "metadata": {
    "collapsed": false
   },
   "outputs": [
    {
     "name": "stdout",
     "output_type": "stream",
     "text": [
      "prob = 0.5662\n",
      "m = 25\n"
     ]
    },
    {
     "data": {
      "text/plain": [
       "25"
      ]
     },
     "execution_count": 16,
     "metadata": {},
     "output_type": "execute_result"
    }
   ],
   "source": [
    "n = 10000;\n",
    "m = 25;\n",
    "counter = 0;\n",
    "for j=1:n\n",
    "    counter += create_room(m);\n",
    "end\n",
    "prob = counter/n;\n",
    "@show prob\n",
    "@show m"
   ]
  },
  {
   "cell_type": "code",
   "execution_count": 17,
   "metadata": {
    "collapsed": false
   },
   "outputs": [
    {
     "name": "stdout",
     "output_type": "stream",
     "text": [
      "prob = 0.5145\n",
      "m = 23\n"
     ]
    },
    {
     "data": {
      "text/plain": [
       "23"
      ]
     },
     "execution_count": 17,
     "metadata": {},
     "output_type": "execute_result"
    }
   ],
   "source": [
    "n = 10000;\n",
    "m = 23;\n",
    "counter = 0;\n",
    "for j=1:n\n",
    "    counter += create_room(m);\n",
    "end\n",
    "prob = counter/n;\n",
    "@show prob\n",
    "@show m"
   ]
  },
  {
   "cell_type": "code",
   "execution_count": 18,
   "metadata": {
    "collapsed": false
   },
   "outputs": [
    {
     "name": "stdout",
     "output_type": "stream",
     "text": [
      "prob = 0.4434\n",
      "m = 21\n"
     ]
    },
    {
     "data": {
      "text/plain": [
       "21"
      ]
     },
     "execution_count": 18,
     "metadata": {},
     "output_type": "execute_result"
    }
   ],
   "source": [
    "n = 10000;\n",
    "m = 21;\n",
    "counter = 0;\n",
    "for j=1:n\n",
    "    counter += create_room(m);\n",
    "end\n",
    "prob = counter/n;\n",
    "@show prob\n",
    "@show m"
   ]
  },
  {
   "cell_type": "code",
   "execution_count": 19,
   "metadata": {
    "collapsed": false
   },
   "outputs": [
    {
     "name": "stdout",
     "output_type": "stream",
     "text": [
      "prob = 0.4816\n",
      "m = 22\n"
     ]
    },
    {
     "data": {
      "text/plain": [
       "22"
      ]
     },
     "execution_count": 19,
     "metadata": {},
     "output_type": "execute_result"
    }
   ],
   "source": [
    "n = 10000;\n",
    "m = 22;\n",
    "counter = 0;\n",
    "for j=1:n\n",
    "    counter += create_room(m);\n",
    "end\n",
    "prob = counter/n;\n",
    "@show prob\n",
    "@show m"
   ]
  },
  {
   "cell_type": "code",
   "execution_count": 20,
   "metadata": {
    "collapsed": false
   },
   "outputs": [
    {
     "name": "stdout",
     "output_type": "stream",
     "text": [
      "prob = 0.5057\n",
      "m = 23\n"
     ]
    },
    {
     "data": {
      "text/plain": [
       "23"
      ]
     },
     "execution_count": 20,
     "metadata": {},
     "output_type": "execute_result"
    }
   ],
   "source": [
    "n = 10000;\n",
    "m = 23;\n",
    "counter = 0;\n",
    "for j=1:n\n",
    "    counter += create_room(m);\n",
    "end\n",
    "prob = counter/n;\n",
    "@show prob\n",
    "@show m"
   ]
  },
  {
   "cell_type": "code",
   "execution_count": 21,
   "metadata": {
    "collapsed": false
   },
   "outputs": [
    {
     "name": "stdout",
     "output_type": "stream",
     "text": [
      "prob = 0.5088\n",
      "m = 23\n"
     ]
    },
    {
     "data": {
      "text/plain": [
       "23"
      ]
     },
     "execution_count": 21,
     "metadata": {},
     "output_type": "execute_result"
    }
   ],
   "source": [
    "n = 10000;\n",
    "m = 23;\n",
    "counter = 0;\n",
    "for j=1:n\n",
    "    counter += create_room(m);\n",
    "end\n",
    "prob = counter/n;\n",
    "@show prob\n",
    "@show m"
   ]
  },
  {
   "cell_type": "code",
   "execution_count": null,
   "metadata": {
    "collapsed": true
   },
   "outputs": [],
   "source": []
  }
 ],
 "metadata": {
  "kernelspec": {
   "display_name": "Julia 0.4.6",
   "language": "julia",
   "name": "julia-0.4"
  },
  "language_info": {
   "file_extension": ".jl",
   "mimetype": "application/julia",
   "name": "julia",
   "version": "0.4.6"
  }
 },
 "nbformat": 4,
 "nbformat_minor": 0
}
