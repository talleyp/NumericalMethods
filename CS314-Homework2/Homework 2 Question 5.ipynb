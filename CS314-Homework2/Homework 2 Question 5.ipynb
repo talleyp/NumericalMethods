{
 "cells": [
  {
   "cell_type": "code",
   "execution_count": 19,
   "metadata": {
    "collapsed": false
   },
   "outputs": [
    {
     "data": {
      "text/plain": [
       "my_variance (generic function with 1 method)"
      ]
     },
     "execution_count": 19,
     "metadata": {},
     "output_type": "execute_result"
    }
   ],
   "source": [
    "function my_variance(data)\n",
    "    n = 0\n",
    "    mean = 0\n",
    "    M2 = 0\n",
    "    \n",
    "    for x in data\n",
    "        n = n + 1\n",
    "        delta = x - mean\n",
    "        mean = mean + delta/n\n",
    "        M2 = M2 + delta*(x - mean)\n",
    "    end\n",
    "    variance = M2/(n - 1)\n",
    "    return variance\n",
    "end"
   ]
  },
  {
   "cell_type": "code",
   "execution_count": 37,
   "metadata": {
    "collapsed": false
   },
   "outputs": [
    {
     "data": {
      "text/plain": [
       "int_sample (generic function with 1 method)"
      ]
     },
     "execution_count": 37,
     "metadata": {},
     "output_type": "execute_result"
    }
   ],
   "source": [
    "function int_sample()\n",
    "    x = 2*rand()\n",
    "    for i = 1:10\n",
    "        x = x * 2*rand()\n",
    "    end\n",
    "    return x\n",
    "end"
   ]
  },
  {
   "cell_type": "code",
   "execution_count": 48,
   "metadata": {
    "collapsed": false
   },
   "outputs": [
    {
     "name": "stdout",
     "output_type": "stream",
     "text": [
      "E = 1.0016132979558199\n",
      "sigma = 21.616928109440355\n"
     ]
    },
    {
     "data": {
      "text/plain": [
       "1025.6520171067596"
      ]
     },
     "execution_count": 48,
     "metadata": {},
     "output_type": "execute_result"
    }
   ],
   "source": [
    "n = 10000;\n",
    "f = zeros(n);\n",
    "for i = 1:n\n",
    "    f[i] = int_sample()\n",
    "end\n",
    "E = sum(f) / n;\n",
    "sigma = my_variance(f);\n",
    "@show E\n",
    "@show sigma\n",
    "E * 2^10"
   ]
  },
  {
   "cell_type": "code",
   "execution_count": 49,
   "metadata": {
    "collapsed": false
   },
   "outputs": [
    {
     "name": "stdout",
     "output_type": "stream",
     "text": [
      "E = 0.9801562873701807\n",
      "sigma = 19.187331348357908\n"
     ]
    },
    {
     "data": {
      "text/plain": [
       "1003.680038267065"
      ]
     },
     "execution_count": 49,
     "metadata": {},
     "output_type": "execute_result"
    }
   ],
   "source": [
    "n = 40000;\n",
    "f = zeros(n);\n",
    "for i = 1:n\n",
    "    f[i] = int_sample()\n",
    "end\n",
    "E = sum(f) / n;\n",
    "sigma = my_variance(f);\n",
    "@show E\n",
    "@show sigma\n",
    "E * 2^10"
   ]
  },
  {
   "cell_type": "code",
   "execution_count": 50,
   "metadata": {
    "collapsed": false
   },
   "outputs": [
    {
     "name": "stdout",
     "output_type": "stream",
     "text": [
      "E = 0.9886822140069035\n",
      "sigma = 21.417660071198934\n"
     ]
    },
    {
     "data": {
      "text/plain": [
       "1012.4105871430692"
      ]
     },
     "execution_count": 50,
     "metadata": {},
     "output_type": "execute_result"
    }
   ],
   "source": [
    "n = 160000;\n",
    "f = zeros(n);\n",
    "for i = 1:n\n",
    "    f[i] = int_sample()\n",
    "end\n",
    "E = sum(f) / n;\n",
    "sigma = my_variance(f);\n",
    "@show E\n",
    "@show sigma\n",
    "E * 2^10"
   ]
  },
  {
   "cell_type": "code",
   "execution_count": null,
   "metadata": {
    "collapsed": true
   },
   "outputs": [],
   "source": []
  }
 ],
 "metadata": {
  "kernelspec": {
   "display_name": "Julia 0.4.6",
   "language": "julia",
   "name": "julia-0.4"
  },
  "language_info": {
   "file_extension": ".jl",
   "mimetype": "application/julia",
   "name": "julia",
   "version": "0.4.7"
  }
 },
 "nbformat": 4,
 "nbformat_minor": 0
}
