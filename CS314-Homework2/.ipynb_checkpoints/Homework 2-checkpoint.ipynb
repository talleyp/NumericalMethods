{
 "cells": [
  {
   "cell_type": "code",
   "execution_count": 2,
   "metadata": {
    "collapsed": true
   },
   "outputs": [],
   "source": [
    "include(\"./CS314-2016/float-help.jl\")"
   ]
  },
  {
   "cell_type": "code",
   "execution_count": 2,
   "metadata": {
    "collapsed": false
   },
   "outputs": [
    {
     "name": "stdout",
     "output_type": "stream",
     "text": [
      "The computer representation of 1.5 is:\n",
      "  \u001b[1m\u001b[31m0\u001b[0m\u001b[7m\u001b[32m01111111111\u001b[0m\u001b[4m\u001b[34m1000000000000000000000000000000000000000000000000000\u001b[0m\n",
      "  which decodes to \n",
      "  | sign |   exponent  |    mantissa    \n",
      "     \u001b[1m\u001b[31m0\u001b[0m     \u001b[7m\u001b[32m01111111111\u001b[0m   \u001b[4m\u001b[34m1000000000000000000000000000000000000000000000000000\u001b[0m\n",
      "= (-1)^(0) x 2^(   +0)   x 1.50000000000000000 = 1.5 \n"
     ]
    }
   ],
   "source": [
    "@show_float 1.5"
   ]
  },
  {
   "cell_type": "code",
   "execution_count": 3,
   "metadata": {
    "collapsed": false
   },
   "outputs": [
    {
     "name": "stdout",
     "output_type": "stream",
     "text": [
      "The computer representation of 5.1 is:\n",
      "  \u001b[1m\u001b[31m0\u001b[0m\u001b[7m\u001b[32m10000000001\u001b[0m\u001b[4m\u001b[34m0100011001100110011001100110011001100110011001100110\u001b[0m\n",
      "  which decodes to \n",
      "  | sign |   exponent  |    mantissa    \n",
      "     \u001b[1m\u001b[31m0\u001b[0m     \u001b[7m\u001b[32m10000000001\u001b[0m   \u001b[4m\u001b[34m0100011001100110011001100110011001100110011001100110\u001b[0m\n",
      "= (-1)^(0) x 2^(   +2)   x 1.27499999999999991 = 5.1 \n"
     ]
    }
   ],
   "source": [
    "@show_float 5.1"
   ]
  },
  {
   "cell_type": "code",
   "execution_count": 24,
   "metadata": {
    "collapsed": false
   },
   "outputs": [
    {
     "name": "stdout",
     "output_type": "stream",
     "text": [
      "The computer representation of -5.1 is:\n",
      "  \u001b[1m\u001b[31m1\u001b[0m\u001b[7m\u001b[32m10000000001\u001b[0m\u001b[4m\u001b[34m0100011001100110011001100110011001100110011001100110\u001b[0m\n",
      "  which decodes to \n",
      "  | sign |   exponent  |    mantissa    \n",
      "     \u001b[1m\u001b[31m1\u001b[0m     \u001b[7m\u001b[32m10000000001\u001b[0m   \u001b[4m\u001b[34m0100011001100110011001100110011001100110011001100110\u001b[0m\n",
      "= (-1)^(1) x 2^(   +2)   x 1.27499999999999991 = -5.1 \n"
     ]
    },
    {
     "data": {
      "text/plain": [
       "\"1100000000010100011001100110011001100110011001100110011001100111\""
      ]
     },
     "execution_count": 24,
     "metadata": {},
     "output_type": "execute_result"
    }
   ],
   "source": [
    "@show_float -5.1\n",
    "\n",
    "with_rounding(Float64, RoundDown) do\n",
    "    bits(-5 - .1)\n",
    "end\n"
   ]
  },
  {
   "cell_type": "code",
   "execution_count": 23,
   "metadata": {
    "collapsed": false
   },
   "outputs": [
    {
     "name": "stdout",
     "output_type": "stream",
     "text": [
      "The computer representation of -5.1 is:\n",
      "  \u001b[1m\u001b[31m1\u001b[0m\u001b[7m\u001b[32m10000000001\u001b[0m\u001b[4m\u001b[34m0100011001100110011001100110011001100110011001100110\u001b[0m\n",
      "  which decodes to \n",
      "  | sign |   exponent  |    mantissa    \n",
      "     \u001b[1m\u001b[31m1\u001b[0m     \u001b[7m\u001b[32m10000000001\u001b[0m   \u001b[4m\u001b[34m0100011001100110011001100110011001100110011001100110\u001b[0m\n",
      "= (-1)^(1) x 2^(   +2)   x 1.27499999999999991 = -5.1 \n"
     ]
    },
    {
     "data": {
      "text/plain": [
       "\"1100000000010100011001100110011001100110011001100110011001100110\""
      ]
     },
     "execution_count": 23,
     "metadata": {},
     "output_type": "execute_result"
    }
   ],
   "source": [
    "@show_float -5.1\n",
    "\n",
    "with_rounding(Float64,RoundUp) do\n",
    "    bits(-5 - .1)\n",
    "end\n"
   ]
  },
  {
   "cell_type": "code",
   "execution_count": 6,
   "metadata": {
    "collapsed": false
   },
   "outputs": [
    {
     "data": {
      "text/plain": [
       "2.842170943040401e-14"
      ]
     },
     "execution_count": 6,
     "metadata": {},
     "output_type": "execute_result"
    }
   ],
   "source": [
    "eps(201.)"
   ]
  },
  {
   "cell_type": "code",
   "execution_count": 7,
   "metadata": {
    "collapsed": false
   },
   "outputs": [
    {
     "data": {
      "text/plain": [
       "0.0"
      ]
     },
     "execution_count": 7,
     "metadata": {},
     "output_type": "execute_result"
    }
   ],
   "source": [
    "R1=1;\n",
    "R2=0;\n",
    "T = 1 / ((1/R1)+(1/R2))"
   ]
  },
  {
   "cell_type": "code",
   "execution_count": 8,
   "metadata": {
    "collapsed": false
   },
   "outputs": [
    {
     "name": "stdout",
     "output_type": "stream",
     "text": [
      "The computer representation of 1 / 0 is:\n",
      "  \u001b[1m\u001b[31m0\u001b[0m\u001b[7m\u001b[32m11111111111\u001b[0m\u001b[4m\u001b[34m0000000000000000000000000000000000000000000000000000\u001b[0m\n",
      "  which decodes to \n",
      "  | sign |   exponent  |    mantissa    \n",
      "     \u001b[1m\u001b[31m0\u001b[0m     \u001b[7m\u001b[32m11111111111\u001b[0m   \u001b[4m\u001b[34m0000000000000000000000000000000000000000000000000000\u001b[0m\n",
      "= (-1)^(0) x 2^( Inf)   x 1.00000000000000000 = Inf \n"
     ]
    }
   ],
   "source": [
    "@show_float 1/0"
   ]
  },
  {
   "cell_type": "code",
   "execution_count": 9,
   "metadata": {
    "collapsed": false
   },
   "outputs": [
    {
     "name": "stdout",
     "output_type": "stream",
     "text": [
      "The computer representation of 1 + 1 / 0 is:\n",
      "  \u001b[1m\u001b[31m0\u001b[0m\u001b[7m\u001b[32m11111111111\u001b[0m\u001b[4m\u001b[34m0000000000000000000000000000000000000000000000000000\u001b[0m\n",
      "  which decodes to \n",
      "  | sign |   exponent  |    mantissa    \n",
      "     \u001b[1m\u001b[31m0\u001b[0m     \u001b[7m\u001b[32m11111111111\u001b[0m   \u001b[4m\u001b[34m0000000000000000000000000000000000000000000000000000\u001b[0m\n",
      "= (-1)^(0) x 2^( Inf)   x 1.00000000000000000 = Inf \n"
     ]
    }
   ],
   "source": [
    "@show_float (1+1/0)"
   ]
  },
  {
   "cell_type": "code",
   "execution_count": 10,
   "metadata": {
    "collapsed": false
   },
   "outputs": [
    {
     "name": "stdout",
     "output_type": "stream",
     "text": [
      "The computer representation of 1 / Inf is:\n",
      "  \u001b[1m\u001b[31m0\u001b[0m\u001b[7m\u001b[32m00000000000\u001b[0m\u001b[4m\u001b[34m0000000000000000000000000000000000000000000000000000\u001b[0m\n",
      "  which decodes to \n",
      "  | sign |   exponent  |    mantissa    \n",
      "     \u001b[1m\u001b[31m0\u001b[0m     \u001b[7m\u001b[32m00000000000\u001b[0m   \u001b[4m\u001b[34m0000000000000000000000000000000000000000000000000000\u001b[0m\n",
      "= (-1)^(0) x 2^(-1022)   x 0.00000000000000000 = 0  \n"
     ]
    }
   ],
   "source": [
    "@show_float (1/Inf)"
   ]
  },
  {
   "cell_type": "code",
   "execution_count": 22,
   "metadata": {
    "collapsed": false
   },
   "outputs": [
    {
     "data": {
      "text/plain": [
       "82"
      ]
     },
     "execution_count": 22,
     "metadata": {},
     "output_type": "execute_result"
    }
   ],
   "source": [
    "N = 1000\n",
    "fib = zeros(N)\n",
    "roots1 = zeros(Complex{Float64}, N)\n",
    "roots2 = zeros(Complex{Float64}, N)\n",
    "fib[1] = 1; roots1[1] = 1 # avoid reporting these equal\n",
    "fib[2] = 1; roots1[2] = 1 # because we don't compute them\n",
    "for i=3:N\n",
    "    fib[i] = fib[i-2] + fib[i-1]\n",
    "    roots1[i] = (fib[i-2] + sqrt(complex((-1)^i))) / fib[i]\n",
    "    roots2[i] = (fib[i-2] - sqrt(complex((-1)^i))) / fib[i]\n",
    "end\n",
    "bign = findfirst(roots1.==roots2) # finds the first zero"
   ]
  },
  {
   "cell_type": "code",
   "execution_count": 27,
   "metadata": {
    "collapsed": false
   },
   "outputs": [
    {
     "data": {
      "text/plain": [
       "myroots (generic function with 1 method)"
      ]
     },
     "execution_count": 27,
     "metadata": {},
     "output_type": "execute_result"
    }
   ],
   "source": [
    "\"\"\"\n",
    "`myroots`\n",
    "=========\n",
    "\n",
    "Solve a quadratic equation given as a vector of its coefficients\n",
    "\n",
    "Functions\n",
    "---------\n",
    "* `r = myroots(c)` returns the values of x that solves \n",
    "   the quadratic equation \\$c[1] x^2 + c[2] x + c[3] = 0\\$ \n",
    "   based on formula\n",
    "    \\$r[1] =(-b + \\sqrt{b^2 - 4ac})/2a\\$\n",
    "    \\$r[2] =(-b - \\sqrt{b^2 - 4ac})/2a\\$\n",
    "\n",
    "Example\n",
    "-------\n",
    "~~~~\n",
    "@show myroots([1. 0. 1.])\n",
    "@show myroots([-1. 0. 1.])\n",
    "~~~~\n",
    "\"\"\"\n",
    "function myroots(c)\n",
    "    x = zeros(Complex{Float64}, 2)\n",
    "    x[1] =(-c[2] + sqrt( complex(c[2]^2 + 4*c[1]*c[3])))/2*c[1]\n",
    "    x[2] =(-c[2] + sqrt( complex(c[2]^2 + 4*c[1]*c[3])))/2*c[1]\n",
    "    return x\n",
    "end\n"
   ]
  },
  {
   "cell_type": "code",
   "execution_count": 22,
   "metadata": {
    "collapsed": false
   },
   "outputs": [
    {
     "data": {
      "text/plain": [
       "3"
      ]
     },
     "execution_count": 22,
     "metadata": {},
     "output_type": "execute_result"
    }
   ],
   "source": [
    "N = 100\n",
    "fib = zeros(N)\n",
    "roots1 = zeros(Complex{Float64}, N)\n",
    "roots2 = zeros(Complex{Float64}, N)\n",
    "fib[1] = 1; roots1[1] = 1 # avoid reporting these equal\n",
    "fib[2] = 1; roots1[2] = 1 # because we don't compute them\n",
    "for i=3:N\n",
    "    fib[i] = fib[i-2] + fib[i-1]\n",
    "    r = myroots([fib[i]; -2*fib[i-1]; fib[i-2]])\n",
    "    roots1[i] = r[1]\n",
    "    roots2[i] = r[2]\n",
    "end\n",
    "bign = findfirst(roots1.==roots2) # finds the first zero"
   ]
  },
  {
   "cell_type": "code",
   "execution_count": 23,
   "metadata": {
    "collapsed": false
   },
   "outputs": [
    {
     "data": {
      "text/plain": [
       "41"
      ]
     },
     "execution_count": 23,
     "metadata": {},
     "output_type": "execute_result"
    }
   ],
   "source": [
    "using Polynomials\n",
    "N = 100\n",
    "fib = zeros(N)\n",
    "roots1 = zeros(Complex{Float64}, N)\n",
    "roots2 = zeros(Complex{Float64}, N)\n",
    "fib[1] = 1; roots1[1] = 1 # avoid reporting these equal\n",
    "fib[2] = 1; roots1[2] = 1 # because we don't compute them\n",
    "for i=3:N\n",
    "    fib[i] = fib[i-2] + fib[i-1]\n",
    "    r = roots(Poly([fib[i]; -2*fib[i-1]; fib[i-2]]))\n",
    "    roots1[i] = r[1]\n",
    "    roots2[i] = r[2]\n",
    "end\n",
    "bign = findfirst(roots1.==roots2) # finds the first zero"
   ]
  },
  {
   "cell_type": "code",
   "execution_count": 5,
   "metadata": {
    "collapsed": false
   },
   "outputs": [
    {
     "data": {
      "text/plain": [
       "1922.0f0"
      ]
     },
     "execution_count": 5,
     "metadata": {},
     "output_type": "execute_result"
    }
   ],
   "source": [
    "Float32((1782.^12. + 1841.^12.)^(1./12.))"
   ]
  },
  {
   "cell_type": "code",
   "execution_count": 1,
   "metadata": {
    "collapsed": false
   },
   "outputs": [
    {
     "data": {
      "text/plain": [
       "1921.9999999558665"
      ]
     },
     "execution_count": 1,
     "metadata": {},
     "output_type": "execute_result"
    }
   ],
   "source": [
    "(1782.^12. +1841.^12.)^(1./12.)"
   ]
  },
  {
   "cell_type": "code",
   "execution_count": 6,
   "metadata": {
    "collapsed": false
   },
   "outputs": [
    {
     "data": {
      "text/plain": [
       "4364.999999999998"
      ]
     },
     "execution_count": 6,
     "metadata": {},
     "output_type": "execute_result"
    }
   ],
   "source": [
    "(3987.^12.+4365.^12.)^(1./12.)"
   ]
  },
  {
   "cell_type": "code",
   "execution_count": null,
   "metadata": {
    "collapsed": true
   },
   "outputs": [],
   "source": []
  }
 ],
 "metadata": {
  "kernelspec": {
   "display_name": "Julia 0.4.6",
   "language": "julia",
   "name": "julia-0.4"
  },
  "language_info": {
   "file_extension": ".jl",
   "mimetype": "application/julia",
   "name": "julia",
   "version": "0.4.6"
  }
 },
 "nbformat": 4,
 "nbformat_minor": 0
}
