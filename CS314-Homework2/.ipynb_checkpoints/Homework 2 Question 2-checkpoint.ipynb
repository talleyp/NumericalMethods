{
 "cells": [
  {
   "cell_type": "code",
   "execution_count": 3,
   "metadata": {
    "collapsed": true
   },
   "outputs": [],
   "source": [
    "include(\"./CS314-2016/float-help.jl\")"
   ]
  },
  {
   "cell_type": "code",
   "execution_count": 1,
   "metadata": {
    "collapsed": false
   },
   "outputs": [
    {
     "data": {
      "text/plain": [
       "0.0"
      ]
     },
     "execution_count": 1,
     "metadata": {},
     "output_type": "execute_result"
    }
   ],
   "source": [
    "R1=1;\n",
    "R2=0;\n",
    "T = 1 / ((1/R1)+(1/R2))"
   ]
  },
  {
   "cell_type": "code",
   "execution_count": 4,
   "metadata": {
    "collapsed": false
   },
   "outputs": [
    {
     "name": "stdout",
     "output_type": "stream",
     "text": [
      "The computer representation of 1 / 0 is:\n",
      "  \u001b[1m\u001b[31m0\u001b[0m\u001b[7m\u001b[32m11111111111\u001b[0m\u001b[4m\u001b[34m0000000000000000000000000000000000000000000000000000\u001b[0m\n",
      "  which decodes to \n",
      "  | sign |   exponent  |    mantissa    \n",
      "     \u001b[1m\u001b[31m0\u001b[0m     \u001b[7m\u001b[32m11111111111\u001b[0m   \u001b[4m\u001b[34m0000000000000000000000000000000000000000000000000000\u001b[0m\n",
      "= (-1)^(0) x 2^( Inf)   x 1.00000000000000000 = Inf \n"
     ]
    }
   ],
   "source": [
    "@show_float 1/0"
   ]
  },
  {
   "cell_type": "code",
   "execution_count": 5,
   "metadata": {
    "collapsed": false
   },
   "outputs": [
    {
     "name": "stdout",
     "output_type": "stream",
     "text": [
      "The computer representation of 1 + 1 / 0 is:\n",
      "  \u001b[1m\u001b[31m0\u001b[0m\u001b[7m\u001b[32m11111111111\u001b[0m\u001b[4m\u001b[34m0000000000000000000000000000000000000000000000000000\u001b[0m\n",
      "  which decodes to \n",
      "  | sign |   exponent  |    mantissa    \n",
      "     \u001b[1m\u001b[31m0\u001b[0m     \u001b[7m\u001b[32m11111111111\u001b[0m   \u001b[4m\u001b[34m0000000000000000000000000000000000000000000000000000\u001b[0m\n",
      "= (-1)^(0) x 2^( Inf)   x 1.00000000000000000 = Inf \n"
     ]
    }
   ],
   "source": [
    "@show_float (1+1/0)"
   ]
  },
  {
   "cell_type": "code",
   "execution_count": 6,
   "metadata": {
    "collapsed": false
   },
   "outputs": [
    {
     "name": "stdout",
     "output_type": "stream",
     "text": [
      "The computer representation of 1 / Inf is:\n",
      "  \u001b[1m\u001b[31m0\u001b[0m\u001b[7m\u001b[32m00000000000\u001b[0m\u001b[4m\u001b[34m0000000000000000000000000000000000000000000000000000\u001b[0m\n",
      "  which decodes to \n",
      "  | sign |   exponent  |    mantissa    \n",
      "     \u001b[1m\u001b[31m0\u001b[0m     \u001b[7m\u001b[32m00000000000\u001b[0m   \u001b[4m\u001b[34m0000000000000000000000000000000000000000000000000000\u001b[0m\n",
      "= (-1)^(0) x 2^(-1022)   x 0.00000000000000000 = 0  \n"
     ]
    }
   ],
   "source": [
    "@show_float (1/Inf)"
   ]
  },
  {
   "cell_type": "code",
   "execution_count": null,
   "metadata": {
    "collapsed": true
   },
   "outputs": [],
   "source": []
  }
 ],
 "metadata": {
  "kernelspec": {
   "display_name": "Julia 0.4.6",
   "language": "julia",
   "name": "julia-0.4"
  },
  "language_info": {
   "file_extension": ".jl",
   "mimetype": "application/julia",
   "name": "julia",
   "version": "0.4.6"
  }
 },
 "nbformat": 4,
 "nbformat_minor": 0
}
