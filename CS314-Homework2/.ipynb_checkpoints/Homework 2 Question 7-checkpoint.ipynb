{
 "cells": [
  {
   "cell_type": "code",
   "execution_count": 1,
   "metadata": {
    "collapsed": false
   },
   "outputs": [
    {
     "data": {
      "text/plain": [
       "2x15 Array{Int64,2}:\n",
       " 1  2  3  4  5  6  7  8  2  9  10  7  2  11  12\n",
       " 5  9  2  3  2  8  8  3  9  4   3  8  9   2   3"
      ]
     },
     "execution_count": 1,
     "metadata": {},
     "output_type": "execute_result"
    }
   ],
   "source": [
    "g = [1 2 3 4 5 6 7 8 2 9 10 7 2 11 12;\n",
    "    5 9 2 3 2 8 8 3 9 4 3 8 9 2 3]"
   ]
  },
  {
   "cell_type": "code",
   "execution_count": 2,
   "metadata": {
    "collapsed": false
   },
   "outputs": [
    {
     "data": {
      "text/plain": [
       "num_nodes (generic function with 1 method)"
      ]
     },
     "execution_count": 2,
     "metadata": {},
     "output_type": "execute_result"
    }
   ],
   "source": [
    "\"\"\"\n",
    "`num_nodes`\n",
    "=========\n",
    "\n",
    "Returns an approximation of the size of a graph from a random walk\n",
    "\n",
    "Functions\n",
    "---------\n",
    "* `n = num_nodes(g)` returns size of the graph solving\n",
    "\\$ num nodes = \\frac{\\sum\\limits_{i=1}^n d_{i} * \\sum\\limits_{i=1}^n \\frac{1}{d_{i}}}{2*C} \\$\n",
    "\n",
    "\"\"\"\n",
    "function num_nodes(g)\n",
    "    C=0\n",
    "    vert = unique(g[1,:])\n",
    "    for i = 1:length(vert)\n",
    "        k = sum(g[1,:].==vert[i])\n",
    "        C += k*(k-1)/2\n",
    "    end\n",
    "\n",
    "    nodes = sum(g[2,:]) * sum((1 ./ g[2,:])) / (2*C)\n",
    "    return nodes\n",
    "end"
   ]
  },
  {
   "cell_type": "code",
   "execution_count": 3,
   "metadata": {
    "collapsed": false
   },
   "outputs": [
    {
     "data": {
      "text/plain": [
       "38.91875"
      ]
     },
     "execution_count": 3,
     "metadata": {},
     "output_type": "execute_result"
    }
   ],
   "source": [
    "num_nodes(g)"
   ]
  },
  {
   "cell_type": "code",
   "execution_count": 4,
   "metadata": {
    "collapsed": false,
    "scrolled": true
   },
   "outputs": [
    {
     "name": "stdout",
     "output_type": "stream",
     "text": [
      "get_links_big(0) = [65536,131072,196608,262144,327680,393216,458752,524288,589824,655360,720896,786432,851968,917504,983040,1048576,1114112,1179648,1245184,1310720,1376256,1441792,1507328,1572864,1638400,1703936,1769472,1835008,1900544,1966080,2031616,2097152,2162688,2228224,2293760,2359296,2424832,2490368,2555904,2621440,2686976,2752512,2818048,2883584,2949120,3014656,104595456,173146112,276168704,142147584,276561920,109117440,109182976,1129906176,143720448,177930240,211550208,44105728,144834560,178847744,178913280,179765248,179830784,179896320,213712896,147259392,248578048,181665792,182124544,219283456,219348992,253689856,254476288,153944064,154861568,154927104,88211456,88276992,222625792,22347776,223936512,1096482816,224657408,76611584,258736128,192151552,192217088,227672064,262078464,28704768,28770304,1104150528,266403840]\n",
      "get_links_small(0) = [421068800,130154496,420806656,421134336,421593088]\n"
     ]
    },
    {
     "data": {
      "text/plain": [
       "5-element Array{Int64,1}:\n",
       " 421068800\n",
       " 130154496\n",
       " 420806656\n",
       " 421134336\n",
       " 421593088"
      ]
     },
     "execution_count": 4,
     "metadata": {},
     "output_type": "execute_result"
    }
   ],
   "source": [
    "include(\"get_links.jl\")\n",
    "@show get_links_big(0)\n",
    "@show get_links_small(0)"
   ]
  },
  {
   "cell_type": "code",
   "execution_count": 5,
   "metadata": {
    "collapsed": false
   },
   "outputs": [
    {
     "data": {
      "text/plain": [
       "sample_vertex_small (generic function with 1 method)"
      ]
     },
     "execution_count": 5,
     "metadata": {},
     "output_type": "execute_result"
    }
   ],
   "source": [
    "\"\"\"\n",
    "`sample_vertex_small`\n",
    "=====================\n",
    "\n",
    "Return a near-random vertex from the small graph\n",
    "along with it's degree.\n",
    "\n",
    "`x,d = sample_vertex_small(k)` takes k ststarting\n",
    "from vertex 0 and returns x, the identifier of the last vertex we \n",
    "visited, along with the degree of the vertex x. To get the neighbors\n",
    "of the vertex, this function calls `get_links_small`\n",
    "\n",
    "Example\n",
    "-------\n",
    "~~~~\n",
    "@show x,d = sample_vertex_small(1)\n",
    "@show x,d = sample_vertex_small(2)\n",
    "~~~~\n",
    "\"\"\"\n",
    "function sample_vertex_small(k)\n",
    "    x = 0;\n",
    "    d = 0;\n",
    "    for i = 1:k\n",
    "        links = get_links_small(x)\n",
    "        x = links[rand(1:end)]        \n",
    "    end\n",
    "    d = length(get_links_small(x))\n",
    "    return x,d\n",
    "end\n",
    "\n"
   ]
  },
  {
   "cell_type": "code",
   "execution_count": 6,
   "metadata": {
    "collapsed": false
   },
   "outputs": [
    {
     "data": {
      "text/plain": [
       "(130154496,28)"
      ]
     },
     "execution_count": 6,
     "metadata": {},
     "output_type": "execute_result"
    }
   ],
   "source": [
    "\"\"\"\n",
    "`sample_vertex_big`\n",
    "=====================\n",
    "\n",
    "Return a near-random vertex from the big graph\n",
    "along with it's degree.\n",
    "\n",
    "`x,d = sample_vertex_big(k)` takes k ststarting\n",
    "from vertex 0 and returns x, the identifier of the last vertex we \n",
    "visited, along with the degree of the vertex x. To get the neighbors\n",
    "of the vertex, this function calls `get_links_big`\n",
    "\n",
    "Example\n",
    "-------\n",
    "~~~~\n",
    "@show x,d = sample_vertex_big(1)\n",
    "@show x,d = sample_vertex_big(2)\n",
    "~~~~\n",
    "\"\"\"\n",
    "function sample_vertex_big(k)\n",
    "    x = 0;\n",
    "    d = 0;\n",
    "    for i = 1:k\n",
    "        links = get_links_big(x)\n",
    "        x = links[rand(1:end)]        \n",
    "    end\n",
    "    d = length(get_links_big(x))\n",
    "    return x,d\n",
    "end\n",
    "\n",
    "\n",
    "vbig,d = sample_vertex_big(1)\n",
    "vsmall,d = sample_vertex_small(1)\n"
   ]
  },
  {
   "cell_type": "code",
   "execution_count": null,
   "metadata": {
    "collapsed": false
   },
   "outputs": [],
   "source": [
    "nsamp = 125\n",
    "X = zeros(Int64,nsamp)\n",
    "d = zeros(Int64,nsamp)\n",
    "K = Dict{Int64,Int64}() # this is a hash-table or dictionary\n",
    "ncollisions = 0\n",
    "for i=1:nsamp\n",
    "    X[i],d[i] = sample_vertex_small(25)\n",
    "    @show X[i]\n",
    "    if haskey(K,X[i])\n",
    "        # we have already seen X[i] before, update the collisions\n",
    "        K[X[i]] += 1\n",
    "    else\n",
    "        # then we haven't seen vertex X(i) before, record that\n",
    "        # we've seen it. \n",
    "        K[X[i]] = 1\n",
    "    end\n",
    "end\n",
    "Cout = 0;\n",
    "for (key, value) in K\n",
    "    C += value * (value - 1) / 2\n",
    "end\n",
    "# estimate the number of nodes\n",
    "nodes = sum(d) * sum((1 ./ d)) / (2*C)"
   ]
  },
  {
   "cell_type": "code",
   "execution_count": null,
   "metadata": {
    "collapsed": false
   },
   "outputs": [],
   "source": [
    "nsamp = 1500\n",
    "X = zeros(Int64,nsamp)\n",
    "d = zeros(Int64,nsamp)\n",
    "C = Dict{Int64,Int64}() # this is a hash-table or dictionary\n",
    "ncollisions = 0\n",
    "for i=1:nsamp\n",
    "    X[i],d[i] = sample_vertex_big(100)\n",
    "    #@show X[i]\n",
    "    if haskey(C,X[i])\n",
    "        # we have already seen X[i] before, update the collisions\n",
    "        C[X[i]] += 1\n",
    "    else\n",
    "        # then we haven't seen vertex X(i) before, record that\n",
    "        # we've seen it. \n",
    "        C[X[i]] = 0\n",
    "    end\n",
    "end\n",
    "Cout = 0;\n",
    "for (key, value) in C\n",
    "    Cout += value * (value - 1) / 2\n",
    "end\n",
    "# estimate the number of nodes\n",
    "nodes = sum(d) * sum((1 ./ d)) / (2*Cout)"
   ]
  },
  {
   "cell_type": "code",
   "execution_count": null,
   "metadata": {
    "collapsed": true
   },
   "outputs": [],
   "source": []
  }
 ],
 "metadata": {
  "kernelspec": {
   "display_name": "Julia 0.4.6",
   "language": "julia",
   "name": "julia-0.4"
  },
  "language_info": {
   "file_extension": ".jl",
   "mimetype": "application/julia",
   "name": "julia",
   "version": "0.4.6"
  }
 },
 "nbformat": 4,
 "nbformat_minor": 0
}
