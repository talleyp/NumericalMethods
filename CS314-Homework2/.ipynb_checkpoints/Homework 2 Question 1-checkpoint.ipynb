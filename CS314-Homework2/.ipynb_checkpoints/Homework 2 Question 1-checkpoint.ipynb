{
 "cells": [
  {
   "cell_type": "code",
   "execution_count": 1,
   "metadata": {
    "collapsed": true
   },
   "outputs": [],
   "source": [
    "include(\"./CS314-2016/float-help.jl\")"
   ]
  },
  {
   "cell_type": "code",
   "execution_count": 2,
   "metadata": {
    "collapsed": false
   },
   "outputs": [
    {
     "name": "stdout",
     "output_type": "stream",
     "text": [
      "The computer representation of 1.5 is:\n",
      "  \u001b[1m\u001b[31m0\u001b[0m\u001b[7m\u001b[32m01111111111\u001b[0m\u001b[4m\u001b[34m1000000000000000000000000000000000000000000000000000\u001b[0m\n",
      "  which decodes to \n",
      "  | sign |   exponent  |    mantissa    \n",
      "     \u001b[1m\u001b[31m0\u001b[0m     \u001b[7m\u001b[32m01111111111\u001b[0m   \u001b[4m\u001b[34m1000000000000000000000000000000000000000000000000000\u001b[0m\n",
      "= (-1)^(0) x 2^(   +0)   x 1.50000000000000000 = 1.5 \n"
     ]
    }
   ],
   "source": [
    "@show_float 1.5"
   ]
  },
  {
   "cell_type": "code",
   "execution_count": 3,
   "metadata": {
    "collapsed": false
   },
   "outputs": [
    {
     "name": "stdout",
     "output_type": "stream",
     "text": [
      "The computer representation of 5.1 is:\n",
      "  \u001b[1m\u001b[31m0\u001b[0m\u001b[7m\u001b[32m10000000001\u001b[0m\u001b[4m\u001b[34m0100011001100110011001100110011001100110011001100110\u001b[0m\n",
      "  which decodes to \n",
      "  | sign |   exponent  |    mantissa    \n",
      "     \u001b[1m\u001b[31m0\u001b[0m     \u001b[7m\u001b[32m10000000001\u001b[0m   \u001b[4m\u001b[34m0100011001100110011001100110011001100110011001100110\u001b[0m\n",
      "= (-1)^(0) x 2^(   +2)   x 1.27499999999999991 = 5.1 \n"
     ]
    }
   ],
   "source": [
    "@show_float 5.1"
   ]
  },
  {
   "cell_type": "code",
   "execution_count": 4,
   "metadata": {
    "collapsed": false
   },
   "outputs": [
    {
     "name": "stdout",
     "output_type": "stream",
     "text": [
      "The computer representation of -5.1 is:\n",
      "  \u001b[1m\u001b[31m1\u001b[0m\u001b[7m\u001b[32m10000000001\u001b[0m\u001b[4m\u001b[34m0100011001100110011001100110011001100110011001100110\u001b[0m\n",
      "  which decodes to \n",
      "  | sign |   exponent  |    mantissa    \n",
      "     \u001b[1m\u001b[31m1\u001b[0m     \u001b[7m\u001b[32m10000000001\u001b[0m   \u001b[4m\u001b[34m0100011001100110011001100110011001100110011001100110\u001b[0m\n",
      "= (-1)^(1) x 2^(   +2)   x 1.27499999999999991 = -5.1 \n"
     ]
    },
    {
     "data": {
      "text/plain": [
       "\"1100000000010100011001100110011001100110011001100110011001100110\""
      ]
     },
     "execution_count": 4,
     "metadata": {},
     "output_type": "execute_result"
    }
   ],
   "source": [
    "@show_float -5.1\n",
    "\n",
    "with_rounding(Float64,RoundUp) do\n",
    "    bits(-5 - .1)\n",
    "end"
   ]
  },
  {
   "cell_type": "code",
   "execution_count": 5,
   "metadata": {
    "collapsed": false
   },
   "outputs": [
    {
     "name": "stdout",
     "output_type": "stream",
     "text": [
      "The computer representation of -5.1 is:\n",
      "  \u001b[1m\u001b[31m1\u001b[0m\u001b[7m\u001b[32m10000000001\u001b[0m\u001b[4m\u001b[34m0100011001100110011001100110011001100110011001100110\u001b[0m\n",
      "  which decodes to \n",
      "  | sign |   exponent  |    mantissa    \n",
      "     \u001b[1m\u001b[31m1\u001b[0m     \u001b[7m\u001b[32m10000000001\u001b[0m   \u001b[4m\u001b[34m0100011001100110011001100110011001100110011001100110\u001b[0m\n",
      "= (-1)^(1) x 2^(   +2)   x 1.27499999999999991 = -5.1 \n"
     ]
    },
    {
     "data": {
      "text/plain": [
       "\"1100000000010100011001100110011001100110011001100110011001100111\""
      ]
     },
     "execution_count": 5,
     "metadata": {},
     "output_type": "execute_result"
    }
   ],
   "source": [
    "@show_float -5.1\n",
    "\n",
    "with_rounding(Float64, RoundDown) do\n",
    "    bits(-5 - .1)\n",
    "end"
   ]
  },
  {
   "cell_type": "code",
   "execution_count": 7,
   "metadata": {
    "collapsed": false
   },
   "outputs": [
    {
     "data": {
      "text/plain": [
       "2.842170943040401e-14"
      ]
     },
     "execution_count": 7,
     "metadata": {},
     "output_type": "execute_result"
    }
   ],
   "source": [
    "eps(201.)"
   ]
  },
  {
   "cell_type": "code",
   "execution_count": null,
   "metadata": {
    "collapsed": true
   },
   "outputs": [],
   "source": []
  }
 ],
 "metadata": {
  "kernelspec": {
   "display_name": "Julia 0.4.6",
   "language": "julia",
   "name": "julia-0.4"
  },
  "language_info": {
   "file_extension": ".jl",
   "mimetype": "application/julia",
   "name": "julia",
   "version": "0.4.6"
  }
 },
 "nbformat": 4,
 "nbformat_minor": 0
}
