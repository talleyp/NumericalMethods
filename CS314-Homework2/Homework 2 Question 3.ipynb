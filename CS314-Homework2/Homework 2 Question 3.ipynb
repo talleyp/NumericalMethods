{
 "cells": [
  {
   "cell_type": "code",
   "execution_count": 1,
   "metadata": {
    "collapsed": false
   },
   "outputs": [
    {
     "data": {
      "text/plain": [
       "82"
      ]
     },
     "execution_count": 1,
     "metadata": {},
     "output_type": "execute_result"
    }
   ],
   "source": [
    "N = 1000\n",
    "fib = zeros(N)\n",
    "roots1 = zeros(Complex{Float64}, N)\n",
    "roots2 = zeros(Complex{Float64}, N)\n",
    "fib[1] = 1; roots1[1] = 1 # avoid reporting these equal\n",
    "fib[2] = 1; roots1[2] = 1 # because we don't compute them\n",
    "for i=3:N\n",
    "    fib[i] = fib[i-2] + fib[i-1]\n",
    "    roots1[i] = (fib[i-2] + sqrt(complex((-1)^i))) / fib[i]\n",
    "    roots2[i] = (fib[i-2] - sqrt(complex((-1)^i))) / fib[i]\n",
    "end\n",
    "bign = findfirst(roots1.==roots2) # finds the first zero"
   ]
  },
  {
   "cell_type": "code",
   "execution_count": 2,
   "metadata": {
    "collapsed": false
   },
   "outputs": [
    {
     "data": {
      "text/plain": [
       "myroots (generic function with 1 method)"
      ]
     },
     "execution_count": 2,
     "metadata": {},
     "output_type": "execute_result"
    }
   ],
   "source": [
    "\"\"\"\n",
    "`myroots`\n",
    "=========\n",
    "\n",
    "Solve a quadratic equation given as a vector of its coefficients\n",
    "\n",
    "Functions\n",
    "---------\n",
    "* `r = myroots(c)` returns the values of x that solves \n",
    "   the quadratic equation \\$c[1] x^2 + c[2] x + c[3] = 0\\$ \n",
    "   based on formula\n",
    "    \\$r[1] =(-b + \\sqrt{b^2 - 4ac})/2a\\$\n",
    "    \\$r[2] =(-b - \\sqrt{b^2 - 4ac})/2a\\$\n",
    "\n",
    "Example\n",
    "-------\n",
    "~~~~\n",
    "@show myroots([1. 0. 1.])\n",
    "@show myroots([-1. 0. 1.])\n",
    "~~~~\n",
    "\"\"\"\n",
    "function myroots(c)\n",
    "    x = zeros(Complex{Float64}, 2)\n",
    "    x[1] =(-c[2] + sqrt( complex(c[2]^2 + 4*c[1]*c[3])))/2*c[1]\n",
    "    x[2] =(-c[2] + sqrt( complex(c[2]^2 + 4*c[1]*c[3])))/2*c[1]\n",
    "    return x\n",
    "end\n"
   ]
  },
  {
   "cell_type": "code",
   "execution_count": 3,
   "metadata": {
    "collapsed": false
   },
   "outputs": [
    {
     "data": {
      "text/plain": [
       "3"
      ]
     },
     "execution_count": 3,
     "metadata": {},
     "output_type": "execute_result"
    }
   ],
   "source": [
    "N = 100\n",
    "fib = zeros(N)\n",
    "roots1 = zeros(Complex{Float64}, N)\n",
    "roots2 = zeros(Complex{Float64}, N)\n",
    "fib[1] = 1; roots1[1] = 1 # avoid reporting these equal\n",
    "fib[2] = 1; roots1[2] = 1 # because we don't compute them\n",
    "for i=3:N\n",
    "    fib[i] = fib[i-2] + fib[i-1]\n",
    "    r = myroots([fib[i]; -2*fib[i-1]; fib[i-2]])\n",
    "    roots1[i] = r[1]\n",
    "    roots2[i] = r[2]\n",
    "end\n",
    "bign = findfirst(roots1.==roots2) # finds the first zero"
   ]
  },
  {
   "cell_type": "code",
   "execution_count": 4,
   "metadata": {
    "collapsed": false
   },
   "outputs": [
    {
     "data": {
      "text/plain": [
       "41"
      ]
     },
     "execution_count": 4,
     "metadata": {},
     "output_type": "execute_result"
    }
   ],
   "source": [
    "using Polynomials\n",
    "N = 100\n",
    "fib = zeros(N)\n",
    "roots1 = zeros(Complex{Float64}, N)\n",
    "roots2 = zeros(Complex{Float64}, N)\n",
    "fib[1] = 1; roots1[1] = 1 # avoid reporting these equal\n",
    "fib[2] = 1; roots1[2] = 1 # because we don't compute them\n",
    "for i=3:N\n",
    "    fib[i] = fib[i-2] + fib[i-1]\n",
    "    r = roots(Poly([fib[i]; -2*fib[i-1]; fib[i-2]]))\n",
    "    roots1[i] = r[1]\n",
    "    roots2[i] = r[2]\n",
    "end\n",
    "bign = findfirst(roots1.==roots2) # finds the first zero"
   ]
  },
  {
   "cell_type": "code",
   "execution_count": null,
   "metadata": {
    "collapsed": true
   },
   "outputs": [],
   "source": []
  }
 ],
 "metadata": {
  "kernelspec": {
   "display_name": "Julia 0.4.6",
   "language": "julia",
   "name": "julia-0.4"
  },
  "language_info": {
   "file_extension": ".jl",
   "mimetype": "application/julia",
   "name": "julia",
   "version": "0.4.6"
  }
 },
 "nbformat": 4,
 "nbformat_minor": 0
}
