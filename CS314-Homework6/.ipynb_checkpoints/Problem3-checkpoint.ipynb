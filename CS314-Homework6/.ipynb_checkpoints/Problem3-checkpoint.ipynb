{
 "cells": [
  {
   "cell_type": "code",
   "execution_count": 8,
   "metadata": {
    "collapsed": false
   },
   "outputs": [
    {
     "data": {
      "text/plain": [
       "(anonymous function)"
      ]
     },
     "execution_count": 8,
     "metadata": {},
     "output_type": "execute_result"
    }
   ],
   "source": [
    "f = x -> cos(x^2)"
   ]
  },
  {
   "cell_type": "code",
   "execution_count": 4,
   "metadata": {
    "collapsed": false
   },
   "outputs": [
    {
     "data": {
      "text/plain": [
       "midInt (generic function with 2 methods)"
      ]
     },
     "execution_count": 4,
     "metadata": {},
     "output_type": "execute_result"
    }
   ],
   "source": [
    "function midInt(n,f)\n",
    "    h = (1.0-0)/n\n",
    "    xsteps = collect(0:h:1)\n",
    "    mid_int = 0\n",
    "    for i=2:n\n",
    "        mid_int += f((xsteps[i]+xsteps[i-1])/2)\n",
    "    end\n",
    "    mid_int *= h\n",
    "    return mid_int\n",
    "end"
   ]
  },
  {
   "cell_type": "code",
   "execution_count": 5,
   "metadata": {
    "collapsed": false
   },
   "outputs": [
    {
     "data": {
      "text/plain": [
       "trapInt (generic function with 2 methods)"
      ]
     },
     "execution_count": 5,
     "metadata": {},
     "output_type": "execute_result"
    }
   ],
   "source": [
    "function trapInt(n,f) \n",
    "    h = (1.0-0)/n\n",
    "    xsteps = collect(0:h:1)\n",
    "    trap_int = 0\n",
    "    for i=2:n\n",
    "        trap_int += (f(xsteps[i])+f(xsteps[i-1]))\n",
    "    end\n",
    "    trap_int *= h/2\n",
    "    return trap_int\n",
    "end"
   ]
  },
  {
   "cell_type": "code",
   "execution_count": 6,
   "metadata": {
    "collapsed": false
   },
   "outputs": [
    {
     "data": {
      "text/plain": [
       "simpInt (generic function with 2 methods)"
      ]
     },
     "execution_count": 6,
     "metadata": {},
     "output_type": "execute_result"
    }
   ],
   "source": [
    "function simpInt(n,f)\n",
    "    h = (1.0-0)/n\n",
    "    xsteps = collect(0:h:1)\n",
    "    simp_int = 0\n",
    "    for i=2:n\n",
    "        simp_int +=  ( f(xsteps[i-1]) + 4*f((xsteps[i-1]+xsteps[i])/2) + f(xsteps[i]) )\n",
    "    end\n",
    "    simp_int *= h/6\n",
    "    return simp_int\n",
    "end"
   ]
  },
  {
   "cell_type": "code",
   "execution_count": 10,
   "metadata": {
    "collapsed": false
   },
   "outputs": [
    {
     "data": {
      "text/plain": [
       "0.904524237900272"
      ]
     },
     "execution_count": 10,
     "metadata": {},
     "output_type": "execute_result"
    }
   ],
   "source": [
    "actual = quadgk(f,0,1)[1]"
   ]
  },
  {
   "cell_type": "code",
   "execution_count": 69,
   "metadata": {
    "collapsed": false
   },
   "outputs": [
    {
     "name": "stdout",
     "output_type": "stream",
     "text": [
      "Method \t\t\t Abs error \t Computation\n",
      "Composite midpoint \t 0.00054107 \t 4n \n",
      "Composite trapezoid \t 0.00054128 \t 4n \n",
      "Composite Simpson's \t 0.00054114 \t 7n"
     ]
    }
   ],
   "source": [
    "error_mid = abs(mid_int - actual)\n",
    "error_trap = abs(trap_int - actual)\n",
    "error_simp = abs(simp_int - actual)\n",
    "\n",
    "@printf(\"Method \\t\\t\\t Abs error \\t Computation\\n\")\n",
    "@printf(\"Composite midpoint \\t %.8f \\t 4n \\n\", error_mid)\n",
    "@printf(\"Composite trapezoid \\t %.8f \\t 4n \\n\", error_trap)\n",
    "@printf(\"Composite Simpson's \\t %.8f \\t 7n\", error_simp)"
   ]
  },
  {
   "cell_type": "code",
   "execution_count": 41,
   "metadata": {
    "collapsed": false
   },
   "outputs": [
    {
     "name": "stdout",
     "output_type": "stream",
     "text": [
      "10^x \t Simpsons \t\t\t Trapezoid \t\t\t Midpoint\n",
      "1 \t 0.0612637202364131 \t\t 0.0628925177178588 \t\t 0.0618066527302285 \n",
      "2 \t 0.0054796773363898 \t\t 0.0055002335204161 \t\t 0.0054865293977314 \n",
      "3 \t 0.0005410731737462 \t\t 0.0005412830609605 \t\t 0.0005411431361522 \n",
      "4 \t 0.0000540379435920 \t\t 0.0000540400467866 \t\t 0.0000540386446575 \n",
      "5 \t 0.0000054031002166 \t\t 0.0000054031212253 \t\t 0.0000054031072072 \n",
      "6 \t 0.0000005403031392 \t\t 0.0000005403033534 \t\t 0.0000005403031215 \n",
      "7 \t 0.0000000540300914 \t\t 0.0000000540300936 \t\t 0.0000000540302217 \n"
     ]
    }
   ],
   "source": [
    "lastE = 7\n",
    "mError = zeros(lastE,1)\n",
    "tError = zeros(lastE,1) \n",
    "sError = zeros(lastE,1)\n",
    "\n",
    "@printf(\"10^x \\t Simpsons \\t\\t\\t Trapezoid \\t\\t\\t Midpoint\\n\")\n",
    "for i=1:(lastE)\n",
    "    mError[i] = abs(midInt(10^(i), f) -actual)\n",
    "    tError[i] = abs(trapInt(10^(i), f) -actual)\n",
    "    sError[i] = abs(simpInt(10^(i), f) -actual)\n",
    "\n",
    "    @printf(\"%d \\t %.16f \\t\\t %.16f \\t\\t %.16f \\n\", i, mError[i],tError[i], sError[i])\n",
    "end\n",
    "\n"
   ]
  },
  {
   "cell_type": "code",
   "execution_count": null,
   "metadata": {
    "collapsed": true
   },
   "outputs": [],
   "source": []
  }
 ],
 "metadata": {
  "kernelspec": {
   "display_name": "Julia 0.4.7",
   "language": "julia",
   "name": "julia-0.4"
  },
  "language_info": {
   "file_extension": ".jl",
   "mimetype": "application/julia",
   "name": "julia",
   "version": "0.4.7"
  }
 },
 "nbformat": 4,
 "nbformat_minor": 0
}
