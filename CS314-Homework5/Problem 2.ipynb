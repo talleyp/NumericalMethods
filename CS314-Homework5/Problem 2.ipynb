{
 "cells": [
  {
   "cell_type": "markdown",
   "metadata": {},
   "source": [
    "$$ l(x) = -\\frac{x-b}{a-b} + \\frac{x-a}{b-a} $$"
   ]
  },
  {
   "cell_type": "code",
   "execution_count": 1,
   "metadata": {
    "collapsed": false
   },
   "outputs": [
    {
     "data": {
      "text/plain": [
       "chebspace (generic function with 2 methods)"
      ]
     },
     "execution_count": 1,
     "metadata": {},
     "output_type": "execute_result"
    }
   ],
   "source": [
    "\"\"\"\n",
    "`chebspace`\n",
    "===========\n",
    "\n",
    "A Chebyshev analog of linspace for polynomial interpolation\n",
    "\n",
    "* `chebspace(a,b)` generates an array of 100 Chebyshev points \n",
    "between `a` and `b`\n",
    "* `chebspace(a,b,n)` generates an array of `n` points between a, b\n",
    "and for `n=1`, this returns b.\n",
    "function chebspace(a,b,n)\n",
    "# fill this in!\n",
    "end\n",
    "function chebspace(a,b)\n",
    "    return chebspace(a,b,100)\n",
    "end\n",
    "\"\"\"\n",
    "function chebspace(a,b,n=100)\n",
    "    x = zeros(n,1)\n",
    "    if n==1\n",
    "        return b\n",
    "    else\n",
    "        for i=1:n\n",
    "            x[i] = (a+b)/2 + (b-a)/2 * cos((2*i-1)/(2*n)*pi)\n",
    "        end\n",
    "        return x\n",
    "    end\n",
    "end\n"
   ]
  },
  {
   "cell_type": "code",
   "execution_count": 2,
   "metadata": {
    "collapsed": false
   },
   "outputs": [
    {
     "data": {
      "text/plain": [
       "100x1 Array{Float64,2}:\n",
       "  4.99938\n",
       "  4.99445\n",
       "  4.98459\n",
       "  4.9698 \n",
       "  4.95012\n",
       "  4.92555\n",
       "  4.89611\n",
       "  4.86185\n",
       "  4.82279\n",
       "  4.77897\n",
       "  4.73043\n",
       "  4.67722\n",
       "  4.6194 \n",
       "  ⋮      \n",
       " -4.67722\n",
       " -4.73043\n",
       " -4.77897\n",
       " -4.82279\n",
       " -4.86185\n",
       " -4.89611\n",
       " -4.92555\n",
       " -4.95012\n",
       " -4.9698 \n",
       " -4.98459\n",
       " -4.99445\n",
       " -4.99938"
      ]
     },
     "execution_count": 2,
     "metadata": {},
     "output_type": "execute_result"
    }
   ],
   "source": [
    "chebspace(-5,5)"
   ]
  },
  {
   "cell_type": "code",
   "execution_count": null,
   "metadata": {
    "collapsed": true
   },
   "outputs": [],
   "source": []
  }
 ],
 "metadata": {
  "kernelspec": {
   "display_name": "Julia 0.4.7",
   "language": "julia",
   "name": "julia-0.4"
  },
  "language_info": {
   "file_extension": ".jl",
   "mimetype": "application/julia",
   "name": "julia",
   "version": "0.4.7"
  }
 },
 "nbformat": 4,
 "nbformat_minor": 0
}
