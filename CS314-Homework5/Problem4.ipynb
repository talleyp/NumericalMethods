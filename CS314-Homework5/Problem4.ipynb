{
 "cells": [
  {
   "cell_type": "code",
   "execution_count": 2,
   "metadata": {
    "collapsed": true
   },
   "outputs": [],
   "source": [
    "using ApproxFun\n",
    "using Plots"
   ]
  },
  {
   "cell_type": "code",
   "execution_count": 3,
   "metadata": {
    "collapsed": false
   },
   "outputs": [
    {
     "name": "stderr",
     "output_type": "stream",
     "text": [
      "WARNING: Maximum number of coefficients 1048577 reached\n"
     ]
    },
    {
     "name": "stdout",
     "output_type": "stream",
     "text": [
      "[Plots.jl] Initializing backend: pyplot\n"
     ]
    }
   ],
   "source": [
    "f = Fun(x->sign(x))\n",
    "plot(f)\n",
    "savefig(\"problem4part2.png\")"
   ]
  },
  {
   "cell_type": "code",
   "execution_count": 4,
   "metadata": {
    "collapsed": false
   },
   "outputs": [
    {
     "name": "stderr",
     "output_type": "stream",
     "text": [
      "WARNING: Maximum number of coefficients 1048577 reached\n"
     ]
    }
   ],
   "source": [
    "f = Fun(x->asinh(csc(pi*x/(e^x))^2)+2x)\n",
    "g = cumsum(f)\n",
    "plot(f, label=\"function\")\n",
    "plot!(g, label=\"integral\")\n",
    "savefig(\"problem4part3.png\")"
   ]
  },
  {
   "cell_type": "code",
   "execution_count": 5,
   "metadata": {
    "collapsed": false
   },
   "outputs": [
    {
     "name": "stderr",
     "output_type": "stream",
     "text": [
      "WARNING: Maximum number of coefficients 1048577 reached\n"
     ]
    }
   ],
   "source": [
    "A = [1 2 0; 0 2 1; 1 0 2.0]\n",
    "B = [1 1 0; 1 -1 1; -1 1 1.0]\n",
    "f = Fun(t -> maximum(abs(eigvals(t*A + (1-t)*B))),[0,1])   \n",
    "plot(f)\n",
    "savefig(\"problem4part4.png\")"
   ]
  },
  {
   "cell_type": "code",
   "execution_count": null,
   "metadata": {
    "collapsed": true
   },
   "outputs": [],
   "source": []
  }
 ],
 "metadata": {
  "kernelspec": {
   "display_name": "Julia 0.4.7",
   "language": "julia",
   "name": "julia-0.4"
  },
  "language_info": {
   "file_extension": ".jl",
   "mimetype": "application/julia",
   "name": "julia",
   "version": "0.4.7"
  }
 },
 "nbformat": 4,
 "nbformat_minor": 0
}
