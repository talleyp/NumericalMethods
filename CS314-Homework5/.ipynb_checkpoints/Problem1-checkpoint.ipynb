{
 "cells": [
  {
   "cell_type": "code",
   "execution_count": 10,
   "metadata": {
    "collapsed": false
   },
   "outputs": [],
   "source": [
    "using Plots\n",
    "using ApproxFun"
   ]
  },
  {
   "cell_type": "markdown",
   "metadata": {
    "collapsed": true
   },
   "source": [
    "# Part 1"
   ]
  },
  {
   "cell_type": "code",
   "execution_count": 11,
   "metadata": {
    "collapsed": false
   },
   "outputs": [],
   "source": [
    "xi = [0; 20; 40; 60; 80; 100]\n",
    "yi = [76.0; 105.7; 131.7; 179.3; 226.5; 281.4]\n",
    "\n",
    "scatter(xi,yi)\n",
    "savefig(\"scatter.png\")"
   ]
  },
  {
   "cell_type": "code",
   "execution_count": 12,
   "metadata": {
    "collapsed": false
   },
   "outputs": [],
   "source": [
    "\"\"\" \n",
    "`lagrange_interp`: lagrange_interp(x, xi, yi)\n",
    "y = lagrange_interp(x,xi,yi) uses the data from xi,yi to build the\n",
    "Lagrange interpolant and then evaluates that interpolant at the points\n",
    "x, returning the interpolated values y.\n",
    "\"\"\"     \n",
    "function lagrange_interp(x, xi, yi)\n",
    "  y = zeros(size(x))\n",
    "  for i=1:length(yi)\n",
    "    elli = ones(size(x))\n",
    "    for j=1:length(xi)\n",
    "      if i==j continue; end\n",
    "      elli = elli.*(x-xi[j])/(xi[i] - xi[j])\n",
    "    end\n",
    "    y = y + yi[i]*elli\n",
    "  end\n",
    "  return y\n",
    "end\n",
    "## Lagrange form\n",
    "xx = linspace(0,120,1000)\n",
    "yyl = lagrange_interp(xx,xi,yi);\n",
    "plot(xx,yyl); scatter!(xi,yi)\n",
    "savefig(\"interp.png\")"
   ]
  },
  {
   "cell_type": "markdown",
   "metadata": {},
   "source": [
    "$$ p(x) = 76 \\frac{(x-20)(x-40)}{(-20)(-40)} + 105.7 \\frac{x(x-40)}{20(20-40)} + 131.7 \\frac{x(x-20)}{40(40-20)} $$"
   ]
  },
  {
   "cell_type": "code",
   "execution_count": 13,
   "metadata": {
    "collapsed": false
   },
   "outputs": [],
   "source": [
    "p1 = x -> 76.0*((x)-(20))*((x)-(40))/((-20)*(-40))\n",
    "p2 = x -> 105.7*(x)*((x)-(40))/((20)*(20-40))\n",
    "p3 = x -> 131.7*(x)*((x)-(20))/((40)*(40-20))\n",
    "f = x -> p1(x)+p2(x)+p3(x)\n",
    "\n",
    "n=200\n",
    "yl=zeros(n,1)\n",
    "tvals = linspace(0,40,n)\n",
    "for i=1:n\n",
    "    yl[i] = f(tvals[i])\n",
    "end\n",
    "plot(tvals, yl)\n",
    "savefig(\"lag.png\")"
   ]
  },
  {
   "cell_type": "markdown",
   "metadata": {},
   "source": [
    "# Part 2 \n",
    "\n",
    "Direct computation of Lagrange interpolant"
   ]
  },
  {
   "cell_type": "code",
   "execution_count": 14,
   "metadata": {
    "collapsed": false
   },
   "outputs": [],
   "source": [
    "year_to_ms = 365*24*60*60*1000\n",
    "p1 = x -> 76.0*((x*year_to_ms)-(20*year_to_ms))*((x*year_to_ms)-(40*year_to_ms))/((-20*year_to_ms)*(-40*year_to_ms))\n",
    "p2 = x -> 105.7*(x*year_to_ms)*((x*year_to_ms)-(40*year_to_ms))/((20*year_to_ms)*(20*year_to_ms-40*year_to_ms))\n",
    "p3 = x -> 131.7*(x*year_to_ms)*((x*year_to_ms)-(20*year_to_ms))/((40*year_to_ms)*(40*year_to_ms-20*year_to_ms))\n",
    "f = x -> p1(x)+p2(x)+p3(x)\n",
    "\n",
    "n=50\n",
    "yl=zeros(n,1)\n",
    "tvals = linspace(0,40*year_to_ms,n)\n",
    "for i=1:n\n",
    "    yl[i] = f(tvals[i])\n",
    "end\n",
    "plot(tvals, yl)\n",
    "savefig(\"lagms.png\")"
   ]
  },
  {
   "cell_type": "markdown",
   "metadata": {},
   "source": [
    "Direct Barycentric interpolant"
   ]
  },
  {
   "cell_type": "code",
   "execution_count": 15,
   "metadata": {
    "collapsed": false
   },
   "outputs": [],
   "source": [
    "y2ms = 365*24*60*60*1000\n",
    "w0 = 1/((-20*y2ms)*(-40*y2ms))\n",
    "w1 = 1/((20*y2ms)*(20*y2ms-40*y2ms))\n",
    "w2 = 1/((40*y2ms)*(40*y2ms*20*y2ms))\n",
    "\n",
    "p = x -> (w0*yi[1]/(x) + w1*yi[2]/(x-(20*y2ms)) + w2*yi[3]/(x-(40*y2ms))) / (w0/(x) + w1/(x-(20*y2ms)) + w2/(x-(40*y2ms)))\n",
    "\n",
    "n=50\n",
    "yb=zeros(n,1)\n",
    "tvals = linspace(0,40*y2ms,n)\n",
    "for i=1:n\n",
    "    yb[i] = p(tvals[i])\n",
    "end\n",
    "\n",
    "plot(tvals, yb)\n",
    "savefig(\"mybary.png\")"
   ]
  },
  {
   "cell_type": "markdown",
   "metadata": {},
   "source": [
    "# Part 3"
   ]
  },
  {
   "cell_type": "code",
   "execution_count": 16,
   "metadata": {
    "collapsed": false
   },
   "outputs": [],
   "source": [
    "function barylag(x,y,xx)\n",
    "    # direct port of \n",
    "    # http://www.mathworks.com/matlabcentral/fileexchange/...\n",
    "    #    4478-barycentric-lagrange-interpolating-polynomials-...\n",
    "    #    and-lebesgue-constant/content/barylag.m\n",
    "    # to Julia. Not that better implmentations in Julia are possible.\n",
    "    M = length(x)\n",
    "    N = length(xx)\n",
    "    @assert M == length(y)\n",
    "    X = repmat(x,1,M)\n",
    "    W = repmat(1./prod(X-X'+eye(M),1),N,1)\n",
    "    xdist=repmat(xx,1,M)-repmat(x',N,1)\n",
    "    fixi,fixj = findnz(xdist.==0)\n",
    "    H=W./xdist\n",
    "    p=vec((H*y)./sum(H,2))\n",
    "    p[fixi] = y[fixj]\n",
    "    return p\n",
    "end\n",
    "ybl = barylag(xi[1:3]*y2ms, yi[1:3],linspace(0,40*y2ms,50))\n",
    "plot(tvals, ybl)\n",
    "savefig(\"baryfun.png\")"
   ]
  },
  {
   "cell_type": "code",
   "execution_count": null,
   "metadata": {
    "collapsed": true
   },
   "outputs": [],
   "source": []
  }
 ],
 "metadata": {
  "anaconda-cloud": {},
  "kernelspec": {
   "display_name": "Julia 0.4.7",
   "language": "julia",
   "name": "julia-0.4"
  },
  "language_info": {
   "file_extension": ".jl",
   "mimetype": "application/julia",
   "name": "julia",
   "version": "0.4.7"
  }
 },
 "nbformat": 4,
 "nbformat_minor": 1
}
