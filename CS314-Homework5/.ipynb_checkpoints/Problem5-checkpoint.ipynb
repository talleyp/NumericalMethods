{
 "cells": [
  {
   "cell_type": "code",
   "execution_count": 3,
   "metadata": {
    "collapsed": false
   },
   "outputs": [
    {
     "data": {
      "text/plain": [
       "(anonymous function)"
      ]
     },
     "execution_count": 3,
     "metadata": {},
     "output_type": "execute_result"
    }
   ],
   "source": [
    "mysecondorder = (x,h) -> (f(x+h) - 2.0*f(x) + f(x-h))/(h^2.0)\n",
    "ddf = x -> -1.0*sin(x)\n",
    "f = x -> sin(x)"
   ]
  },
  {
   "cell_type": "code",
   "execution_count": 4,
   "metadata": {
    "collapsed": false
   },
   "outputs": [
    {
     "name": "stdout",
     "output_type": "stream",
     "text": [
      "1.00000000e-01  -0.4995834721974234  4.16528e-04\n",
      "1.00000000e-02  -0.4999958333473664  4.16665e-06\n",
      "1.00000000e-03  -0.4999999583255033  4.16745e-08\n",
      "1.00000000e-04  -0.4999999969612645  3.03874e-09\n",
      "1.00000000e-05  -0.5000005964816977  5.96482e-07\n",
      "1.00000000e-06  -0.4999334279887080  6.65720e-05\n",
      "1.00000000e-07  -0.4940492459581947  5.95075e-03\n",
      "1.00000000e-08  -1.1102230246251563  6.10223e-01\n",
      "1.00000000e-09  55.5111512312578199  5.60112e+01\n",
      "1.00000000e-10  0.0000000000000000  5.00000e-01\n",
      "1.00000000e-11  0.0000000000000000  5.00000e-01\n",
      "1.00000000e-12  0.0000000000000000  5.00000e-01\n",
      "1.00000000e-13  5551115123.1257820129394531  5.55112e+09\n",
      "1.00000000e-14  -555111512312.5782470703125000  5.55112e+11\n",
      "1.00000000e-15  0.0000000000000000  5.00000e-01\n",
      "1.00000000e-16  -5551115123125783.0000000000000000  5.55112e+15\n"
     ]
    }
   ],
   "source": [
    "x = pi/6.0\n",
    "for i=1:16\n",
    "    h=10.0^(-i)\n",
    "    addf = mysecondorder(x,h)\n",
    "    err = abs(addf - ddf(x))\n",
    "    @printf(\"%.8e  %.16f  %.5e\\n\", h, addf, err)\n",
    "end"
   ]
  },
  {
   "cell_type": "code",
   "execution_count": 5,
   "metadata": {
    "collapsed": false
   },
   "outputs": [
    {
     "name": "stdout",
     "output_type": "stream",
     "text": [
      "mysecondorder(x,0.2) = -0.49833555396895646\n",
      "mysecondorder(x,0.1) = -0.4995834721974234\n",
      "mysecondorder(x,0.05) = -0.4998958420134868\n"
     ]
    }
   ],
   "source": [
    "@show mysecondorder(x,0.2)\n",
    "@show mysecondorder(x,0.1)\n",
    "@show mysecondorder(x,0.05)\n",
    ";"
   ]
  },
  {
   "cell_type": "code",
   "execution_count": 7,
   "metadata": {
    "collapsed": false
   },
   "outputs": [
    {
     "name": "stdout",
     "output_type": "stream",
     "text": [
      "2.00000000e-01  -0.4999994449402457  5.55060e-07\n",
      "1.00000000e-01  -0.4999999652855079  3.47145e-08\n",
      "Combination     -0.4999999999751921  2.48078e-11\n"
     ]
    }
   ],
   "source": [
    "h0=0.2\n",
    "\n",
    "h1=h0/2.0\n",
    "rho0 = mysecondorder(x,h0)\n",
    "rho1 = mysecondorder(x,h1)\n",
    "addf0 = (4/3)*rho1 - (1/3)*rho0\n",
    "err = abs(addf0 - ddf(x))\n",
    "@printf(\"%.8e  %.16f  %.5e\\n\", h0, addf0, err)\n",
    "h0=h1\n",
    "\n",
    "h1=h0/2.0\n",
    "rho0 = mysecondorder(x,h0)\n",
    "rho1 = mysecondorder(x,h1)\n",
    "addf1 = (4/3)*rho1 - (1/3)*rho0\n",
    "err = abs(addf1 - ddf(x))\n",
    "@printf(\"%.8e  %.16f  %.5e\\n\", h0, addf1, err)\n",
    "h0=h1\n",
    "\n",
    "addf2 = (16/15)*addf1 - (1/15)*addf0\n",
    "err = abs(addf2 - ddf(x))\n",
    "@printf(\"Combination     %.16f  %.5e\\n\", addf2, err)"
   ]
  },
  {
   "cell_type": "code",
   "execution_count": 8,
   "metadata": {
    "collapsed": true
   },
   "outputs": [],
   "source": [
    "using ApproxFun"
   ]
  },
  {
   "cell_type": "code",
   "execution_count": 9,
   "metadata": {
    "collapsed": false
   },
   "outputs": [
    {
     "name": "stdout",
     "output_type": "stream",
     "text": [
      "-0.4999999999999885  1.14908e-14\n"
     ]
    }
   ],
   "source": [
    "x=pi/6.0\n",
    "f = Fun(x->sin(x))\n",
    "aprox = f''(x)\n",
    "err = abs(aprox - ddf(x))\n",
    "@printf(\"%.16f  %.5e\\n\", aprox, err)"
   ]
  },
  {
   "cell_type": "code",
   "execution_count": null,
   "metadata": {
    "collapsed": true
   },
   "outputs": [],
   "source": []
  }
 ],
 "metadata": {
  "kernelspec": {
   "display_name": "Julia 0.4.7",
   "language": "julia",
   "name": "julia-0.4"
  },
  "language_info": {
   "file_extension": ".jl",
   "mimetype": "application/julia",
   "name": "julia",
   "version": "0.4.7"
  }
 },
 "nbformat": 4,
 "nbformat_minor": 0
}
